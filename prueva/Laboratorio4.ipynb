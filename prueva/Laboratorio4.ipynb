{
  "nbformat": 4,
  "nbformat_minor": 0,
  "metadata": {
    "colab": {
      "provenance": []
    },
    "kernelspec": {
      "name": "python3",
      "display_name": "Python 3"
    },
    "language_info": {
      "name": "python"
    }
  },
  "cells": [
    {
      "cell_type": "code",
      "execution_count": null,
      "metadata": {
        "colab": {
          "base_uri": "https://localhost:8080/"
        },
        "id": "bmrprZknlFk8",
        "outputId": "cb5b4fae-2209-4489-fcfe-7936db6e7712"
      },
      "outputs": [
        {
          "output_type": "stream",
          "name": "stdout",
          "text": [
            "Mounted at /content/drive\n"
          ]
        }
      ],
      "source": [
        "from google.colab import drive\n",
        "drive.mount('/content/drive')"
      ]
    },
    {
      "cell_type": "code",
      "source": [
        "# utilizado para la manipulación de directorios y rutas\n",
        "import os\n",
        "\n",
        "# Cálculo científico y vectorial para python\n",
        "import numpy as np\n",
        "\n",
        "# Libreria para graficos\n",
        "from matplotlib import pyplot\n",
        "\n",
        "# Modulo de optimizacion en scipy\n",
        "from scipy import optimize\n",
        "\n",
        "# modulo para cargar archivos en formato MATLAB\n",
        "# from scipy.io import loadmat\n",
        "\n",
        "# le dice a matplotlib que incruste gráficos en el cuaderno\n",
        "%matplotlib inline"
      ],
      "metadata": {
        "id": "B-yADlkOtzZ2"
      },
      "execution_count": null,
      "outputs": []
    },
    {
      "cell_type": "code",
      "source": [
        "\n",
        "CSV_PATH = '/content/drive/MyDrive/SIS420-INTELIGENCIA ARTIFICIAL/DATASET/fashion-mnist_train.csv'"
      ],
      "metadata": {
        "id": "roX3IU9mxMCY"
      },
      "execution_count": null,
      "outputs": []
    },
    {
      "cell_type": "code",
      "source": [
        "# La entrada es de 784 elementos (28x28)\n",
        "input_layer_size = 784\n",
        "\n",
        "# 10 clases (0..9)\n",
        "num_labels = 10\n"
      ],
      "metadata": {
        "id": "MD_6hBKMyTB7"
      },
      "execution_count": null,
      "outputs": []
    },
    {
      "cell_type": "code",
      "source": [
        "import pandas as pd\n",
        "import numpy as np\n",
        "\n",
        "# Lee el CSV (por defecto sep=',' en Kaggle)\n",
        "data = pd.read_csv(CSV_PATH)\n",
        "\n",
        "# Inspección rápida\n",
        "print(\"Shape:\", data.shape)\n",
        "print(\"Primeras columnas:\", list(data.columns[:10])[:10])\n",
        "print(\"Últimas columnas:\", list(data.columns[-10:]))\n",
        "data.head()\n"
      ],
      "metadata": {
        "colab": {
          "base_uri": "https://localhost:8080/",
          "height": 311
        },
        "id": "rY6HtyMuxNlW",
        "outputId": "aef2ae0b-8323-4b67-daa3-f9014f241540"
      },
      "execution_count": null,
      "outputs": [
        {
          "output_type": "stream",
          "name": "stdout",
          "text": [
            "Shape: (60000, 785)\n",
            "Primeras columnas: ['label', 'pixel1', 'pixel2', 'pixel3', 'pixel4', 'pixel5', 'pixel6', 'pixel7', 'pixel8', 'pixel9']\n",
            "Últimas columnas: ['pixel775', 'pixel776', 'pixel777', 'pixel778', 'pixel779', 'pixel780', 'pixel781', 'pixel782', 'pixel783', 'pixel784']\n"
          ]
        },
        {
          "output_type": "execute_result",
          "data": {
            "text/plain": [
              "   label  pixel1  pixel2  pixel3  pixel4  pixel5  pixel6  pixel7  pixel8  \\\n",
              "0      2       0       0       0       0       0       0       0       0   \n",
              "1      9       0       0       0       0       0       0       0       0   \n",
              "2      6       0       0       0       0       0       0       0       5   \n",
              "3      0       0       0       0       1       2       0       0       0   \n",
              "4      3       0       0       0       0       0       0       0       0   \n",
              "\n",
              "   pixel9  ...  pixel775  pixel776  pixel777  pixel778  pixel779  pixel780  \\\n",
              "0       0  ...         0         0         0         0         0         0   \n",
              "1       0  ...         0         0         0         0         0         0   \n",
              "2       0  ...         0         0         0        30        43         0   \n",
              "3       0  ...         3         0         0         0         0         1   \n",
              "4       0  ...         0         0         0         0         0         0   \n",
              "\n",
              "   pixel781  pixel782  pixel783  pixel784  \n",
              "0         0         0         0         0  \n",
              "1         0         0         0         0  \n",
              "2         0         0         0         0  \n",
              "3         0         0         0         0  \n",
              "4         0         0         0         0  \n",
              "\n",
              "[5 rows x 785 columns]"
            ],
            "text/html": [
              "\n",
              "  <div id=\"df-000ed314-dd5b-4669-a078-bb62cbb225e2\" class=\"colab-df-container\">\n",
              "    <div>\n",
              "<style scoped>\n",
              "    .dataframe tbody tr th:only-of-type {\n",
              "        vertical-align: middle;\n",
              "    }\n",
              "\n",
              "    .dataframe tbody tr th {\n",
              "        vertical-align: top;\n",
              "    }\n",
              "\n",
              "    .dataframe thead th {\n",
              "        text-align: right;\n",
              "    }\n",
              "</style>\n",
              "<table border=\"1\" class=\"dataframe\">\n",
              "  <thead>\n",
              "    <tr style=\"text-align: right;\">\n",
              "      <th></th>\n",
              "      <th>label</th>\n",
              "      <th>pixel1</th>\n",
              "      <th>pixel2</th>\n",
              "      <th>pixel3</th>\n",
              "      <th>pixel4</th>\n",
              "      <th>pixel5</th>\n",
              "      <th>pixel6</th>\n",
              "      <th>pixel7</th>\n",
              "      <th>pixel8</th>\n",
              "      <th>pixel9</th>\n",
              "      <th>...</th>\n",
              "      <th>pixel775</th>\n",
              "      <th>pixel776</th>\n",
              "      <th>pixel777</th>\n",
              "      <th>pixel778</th>\n",
              "      <th>pixel779</th>\n",
              "      <th>pixel780</th>\n",
              "      <th>pixel781</th>\n",
              "      <th>pixel782</th>\n",
              "      <th>pixel783</th>\n",
              "      <th>pixel784</th>\n",
              "    </tr>\n",
              "  </thead>\n",
              "  <tbody>\n",
              "    <tr>\n",
              "      <th>0</th>\n",
              "      <td>2</td>\n",
              "      <td>0</td>\n",
              "      <td>0</td>\n",
              "      <td>0</td>\n",
              "      <td>0</td>\n",
              "      <td>0</td>\n",
              "      <td>0</td>\n",
              "      <td>0</td>\n",
              "      <td>0</td>\n",
              "      <td>0</td>\n",
              "      <td>...</td>\n",
              "      <td>0</td>\n",
              "      <td>0</td>\n",
              "      <td>0</td>\n",
              "      <td>0</td>\n",
              "      <td>0</td>\n",
              "      <td>0</td>\n",
              "      <td>0</td>\n",
              "      <td>0</td>\n",
              "      <td>0</td>\n",
              "      <td>0</td>\n",
              "    </tr>\n",
              "    <tr>\n",
              "      <th>1</th>\n",
              "      <td>9</td>\n",
              "      <td>0</td>\n",
              "      <td>0</td>\n",
              "      <td>0</td>\n",
              "      <td>0</td>\n",
              "      <td>0</td>\n",
              "      <td>0</td>\n",
              "      <td>0</td>\n",
              "      <td>0</td>\n",
              "      <td>0</td>\n",
              "      <td>...</td>\n",
              "      <td>0</td>\n",
              "      <td>0</td>\n",
              "      <td>0</td>\n",
              "      <td>0</td>\n",
              "      <td>0</td>\n",
              "      <td>0</td>\n",
              "      <td>0</td>\n",
              "      <td>0</td>\n",
              "      <td>0</td>\n",
              "      <td>0</td>\n",
              "    </tr>\n",
              "    <tr>\n",
              "      <th>2</th>\n",
              "      <td>6</td>\n",
              "      <td>0</td>\n",
              "      <td>0</td>\n",
              "      <td>0</td>\n",
              "      <td>0</td>\n",
              "      <td>0</td>\n",
              "      <td>0</td>\n",
              "      <td>0</td>\n",
              "      <td>5</td>\n",
              "      <td>0</td>\n",
              "      <td>...</td>\n",
              "      <td>0</td>\n",
              "      <td>0</td>\n",
              "      <td>0</td>\n",
              "      <td>30</td>\n",
              "      <td>43</td>\n",
              "      <td>0</td>\n",
              "      <td>0</td>\n",
              "      <td>0</td>\n",
              "      <td>0</td>\n",
              "      <td>0</td>\n",
              "    </tr>\n",
              "    <tr>\n",
              "      <th>3</th>\n",
              "      <td>0</td>\n",
              "      <td>0</td>\n",
              "      <td>0</td>\n",
              "      <td>0</td>\n",
              "      <td>1</td>\n",
              "      <td>2</td>\n",
              "      <td>0</td>\n",
              "      <td>0</td>\n",
              "      <td>0</td>\n",
              "      <td>0</td>\n",
              "      <td>...</td>\n",
              "      <td>3</td>\n",
              "      <td>0</td>\n",
              "      <td>0</td>\n",
              "      <td>0</td>\n",
              "      <td>0</td>\n",
              "      <td>1</td>\n",
              "      <td>0</td>\n",
              "      <td>0</td>\n",
              "      <td>0</td>\n",
              "      <td>0</td>\n",
              "    </tr>\n",
              "    <tr>\n",
              "      <th>4</th>\n",
              "      <td>3</td>\n",
              "      <td>0</td>\n",
              "      <td>0</td>\n",
              "      <td>0</td>\n",
              "      <td>0</td>\n",
              "      <td>0</td>\n",
              "      <td>0</td>\n",
              "      <td>0</td>\n",
              "      <td>0</td>\n",
              "      <td>0</td>\n",
              "      <td>...</td>\n",
              "      <td>0</td>\n",
              "      <td>0</td>\n",
              "      <td>0</td>\n",
              "      <td>0</td>\n",
              "      <td>0</td>\n",
              "      <td>0</td>\n",
              "      <td>0</td>\n",
              "      <td>0</td>\n",
              "      <td>0</td>\n",
              "      <td>0</td>\n",
              "    </tr>\n",
              "  </tbody>\n",
              "</table>\n",
              "<p>5 rows × 785 columns</p>\n",
              "</div>\n",
              "    <div class=\"colab-df-buttons\">\n",
              "\n",
              "  <div class=\"colab-df-container\">\n",
              "    <button class=\"colab-df-convert\" onclick=\"convertToInteractive('df-000ed314-dd5b-4669-a078-bb62cbb225e2')\"\n",
              "            title=\"Convert this dataframe to an interactive table.\"\n",
              "            style=\"display:none;\">\n",
              "\n",
              "  <svg xmlns=\"http://www.w3.org/2000/svg\" height=\"24px\" viewBox=\"0 -960 960 960\">\n",
              "    <path d=\"M120-120v-720h720v720H120Zm60-500h600v-160H180v160Zm220 220h160v-160H400v160Zm0 220h160v-160H400v160ZM180-400h160v-160H180v160Zm440 0h160v-160H620v160ZM180-180h160v-160H180v160Zm440 0h160v-160H620v160Z\"/>\n",
              "  </svg>\n",
              "    </button>\n",
              "\n",
              "  <style>\n",
              "    .colab-df-container {\n",
              "      display:flex;\n",
              "      gap: 12px;\n",
              "    }\n",
              "\n",
              "    .colab-df-convert {\n",
              "      background-color: #E8F0FE;\n",
              "      border: none;\n",
              "      border-radius: 50%;\n",
              "      cursor: pointer;\n",
              "      display: none;\n",
              "      fill: #1967D2;\n",
              "      height: 32px;\n",
              "      padding: 0 0 0 0;\n",
              "      width: 32px;\n",
              "    }\n",
              "\n",
              "    .colab-df-convert:hover {\n",
              "      background-color: #E2EBFA;\n",
              "      box-shadow: 0px 1px 2px rgba(60, 64, 67, 0.3), 0px 1px 3px 1px rgba(60, 64, 67, 0.15);\n",
              "      fill: #174EA6;\n",
              "    }\n",
              "\n",
              "    .colab-df-buttons div {\n",
              "      margin-bottom: 4px;\n",
              "    }\n",
              "\n",
              "    [theme=dark] .colab-df-convert {\n",
              "      background-color: #3B4455;\n",
              "      fill: #D2E3FC;\n",
              "    }\n",
              "\n",
              "    [theme=dark] .colab-df-convert:hover {\n",
              "      background-color: #434B5C;\n",
              "      box-shadow: 0px 1px 3px 1px rgba(0, 0, 0, 0.15);\n",
              "      filter: drop-shadow(0px 1px 2px rgba(0, 0, 0, 0.3));\n",
              "      fill: #FFFFFF;\n",
              "    }\n",
              "  </style>\n",
              "\n",
              "    <script>\n",
              "      const buttonEl =\n",
              "        document.querySelector('#df-000ed314-dd5b-4669-a078-bb62cbb225e2 button.colab-df-convert');\n",
              "      buttonEl.style.display =\n",
              "        google.colab.kernel.accessAllowed ? 'block' : 'none';\n",
              "\n",
              "      async function convertToInteractive(key) {\n",
              "        const element = document.querySelector('#df-000ed314-dd5b-4669-a078-bb62cbb225e2');\n",
              "        const dataTable =\n",
              "          await google.colab.kernel.invokeFunction('convertToInteractive',\n",
              "                                                    [key], {});\n",
              "        if (!dataTable) return;\n",
              "\n",
              "        const docLinkHtml = 'Like what you see? Visit the ' +\n",
              "          '<a target=\"_blank\" href=https://colab.research.google.com/notebooks/data_table.ipynb>data table notebook</a>'\n",
              "          + ' to learn more about interactive tables.';\n",
              "        element.innerHTML = '';\n",
              "        dataTable['output_type'] = 'display_data';\n",
              "        await google.colab.output.renderOutput(dataTable, element);\n",
              "        const docLink = document.createElement('div');\n",
              "        docLink.innerHTML = docLinkHtml;\n",
              "        element.appendChild(docLink);\n",
              "      }\n",
              "    </script>\n",
              "  </div>\n",
              "\n",
              "\n",
              "    <div id=\"df-511d0335-7f1c-40f6-aeb1-a2cd4377ae7d\">\n",
              "      <button class=\"colab-df-quickchart\" onclick=\"quickchart('df-511d0335-7f1c-40f6-aeb1-a2cd4377ae7d')\"\n",
              "                title=\"Suggest charts\"\n",
              "                style=\"display:none;\">\n",
              "\n",
              "<svg xmlns=\"http://www.w3.org/2000/svg\" height=\"24px\"viewBox=\"0 0 24 24\"\n",
              "     width=\"24px\">\n",
              "    <g>\n",
              "        <path d=\"M19 3H5c-1.1 0-2 .9-2 2v14c0 1.1.9 2 2 2h14c1.1 0 2-.9 2-2V5c0-1.1-.9-2-2-2zM9 17H7v-7h2v7zm4 0h-2V7h2v10zm4 0h-2v-4h2v4z\"/>\n",
              "    </g>\n",
              "</svg>\n",
              "      </button>\n",
              "\n",
              "<style>\n",
              "  .colab-df-quickchart {\n",
              "      --bg-color: #E8F0FE;\n",
              "      --fill-color: #1967D2;\n",
              "      --hover-bg-color: #E2EBFA;\n",
              "      --hover-fill-color: #174EA6;\n",
              "      --disabled-fill-color: #AAA;\n",
              "      --disabled-bg-color: #DDD;\n",
              "  }\n",
              "\n",
              "  [theme=dark] .colab-df-quickchart {\n",
              "      --bg-color: #3B4455;\n",
              "      --fill-color: #D2E3FC;\n",
              "      --hover-bg-color: #434B5C;\n",
              "      --hover-fill-color: #FFFFFF;\n",
              "      --disabled-bg-color: #3B4455;\n",
              "      --disabled-fill-color: #666;\n",
              "  }\n",
              "\n",
              "  .colab-df-quickchart {\n",
              "    background-color: var(--bg-color);\n",
              "    border: none;\n",
              "    border-radius: 50%;\n",
              "    cursor: pointer;\n",
              "    display: none;\n",
              "    fill: var(--fill-color);\n",
              "    height: 32px;\n",
              "    padding: 0;\n",
              "    width: 32px;\n",
              "  }\n",
              "\n",
              "  .colab-df-quickchart:hover {\n",
              "    background-color: var(--hover-bg-color);\n",
              "    box-shadow: 0 1px 2px rgba(60, 64, 67, 0.3), 0 1px 3px 1px rgba(60, 64, 67, 0.15);\n",
              "    fill: var(--button-hover-fill-color);\n",
              "  }\n",
              "\n",
              "  .colab-df-quickchart-complete:disabled,\n",
              "  .colab-df-quickchart-complete:disabled:hover {\n",
              "    background-color: var(--disabled-bg-color);\n",
              "    fill: var(--disabled-fill-color);\n",
              "    box-shadow: none;\n",
              "  }\n",
              "\n",
              "  .colab-df-spinner {\n",
              "    border: 2px solid var(--fill-color);\n",
              "    border-color: transparent;\n",
              "    border-bottom-color: var(--fill-color);\n",
              "    animation:\n",
              "      spin 1s steps(1) infinite;\n",
              "  }\n",
              "\n",
              "  @keyframes spin {\n",
              "    0% {\n",
              "      border-color: transparent;\n",
              "      border-bottom-color: var(--fill-color);\n",
              "      border-left-color: var(--fill-color);\n",
              "    }\n",
              "    20% {\n",
              "      border-color: transparent;\n",
              "      border-left-color: var(--fill-color);\n",
              "      border-top-color: var(--fill-color);\n",
              "    }\n",
              "    30% {\n",
              "      border-color: transparent;\n",
              "      border-left-color: var(--fill-color);\n",
              "      border-top-color: var(--fill-color);\n",
              "      border-right-color: var(--fill-color);\n",
              "    }\n",
              "    40% {\n",
              "      border-color: transparent;\n",
              "      border-right-color: var(--fill-color);\n",
              "      border-top-color: var(--fill-color);\n",
              "    }\n",
              "    60% {\n",
              "      border-color: transparent;\n",
              "      border-right-color: var(--fill-color);\n",
              "    }\n",
              "    80% {\n",
              "      border-color: transparent;\n",
              "      border-right-color: var(--fill-color);\n",
              "      border-bottom-color: var(--fill-color);\n",
              "    }\n",
              "    90% {\n",
              "      border-color: transparent;\n",
              "      border-bottom-color: var(--fill-color);\n",
              "    }\n",
              "  }\n",
              "</style>\n",
              "\n",
              "      <script>\n",
              "        async function quickchart(key) {\n",
              "          const quickchartButtonEl =\n",
              "            document.querySelector('#' + key + ' button');\n",
              "          quickchartButtonEl.disabled = true;  // To prevent multiple clicks.\n",
              "          quickchartButtonEl.classList.add('colab-df-spinner');\n",
              "          try {\n",
              "            const charts = await google.colab.kernel.invokeFunction(\n",
              "                'suggestCharts', [key], {});\n",
              "          } catch (error) {\n",
              "            console.error('Error during call to suggestCharts:', error);\n",
              "          }\n",
              "          quickchartButtonEl.classList.remove('colab-df-spinner');\n",
              "          quickchartButtonEl.classList.add('colab-df-quickchart-complete');\n",
              "        }\n",
              "        (() => {\n",
              "          let quickchartButtonEl =\n",
              "            document.querySelector('#df-511d0335-7f1c-40f6-aeb1-a2cd4377ae7d button');\n",
              "          quickchartButtonEl.style.display =\n",
              "            google.colab.kernel.accessAllowed ? 'block' : 'none';\n",
              "        })();\n",
              "      </script>\n",
              "    </div>\n",
              "\n",
              "    </div>\n",
              "  </div>\n"
            ],
            "application/vnd.google.colaboratory.intrinsic+json": {
              "type": "dataframe",
              "variable_name": "data"
            }
          },
          "metadata": {},
          "execution_count": 5
        }
      ]
    },
    {
      "cell_type": "code",
      "source": [
        "# Detecta automáticamente las columnas de píxeles (todas menos 'label')\n",
        "feature_cols = [c for c in data.columns if c != 'label']\n",
        "assert len(feature_cols) == 784, f\"Se esperaban 784 features y hay {len(feature_cols)}\"\n",
        "\n",
        "# X (float) y y (int)\n",
        "X = data[feature_cols].astype(np.float64).values\n",
        "y = data['label'].astype(int).values\n",
        "\n",
        "# Si los pixeles ya están 0..255, normaliza a [0,1]\n",
        "if X.max() > 1.0:\n",
        "    X = X / 255.0\n",
        "\n",
        "print(\"X shape:\", X.shape, \" y shape:\", y.shape, \" | X.min/max:\", X.min(), X.max())\n"
      ],
      "metadata": {
        "colab": {
          "base_uri": "https://localhost:8080/"
        },
        "id": "Yc5c83EO0MNV",
        "outputId": "ada6c396-b41e-4344-c8ea-2d99a2a5b3ec"
      },
      "execution_count": null,
      "outputs": [
        {
          "output_type": "stream",
          "name": "stdout",
          "text": [
            "X shape: (60000, 784)  y shape: (60000,)  | X.min/max: 0.0 1.0\n"
          ]
        }
      ]
    },
    {
      "cell_type": "code",
      "source": [
        "# =========================\n",
        "# 1) SEPARAR TRAIN / TEST\n",
        "# =========================\n",
        "import numpy as np\n",
        "import pandas as pd\n",
        "from sklearn.model_selection import train_test_split\n",
        "\n",
        "# data: DataFrame leído desde tu CSV de Drive\n",
        "# CSV_PATH = '/content/drive/MyDrive/SIS420-INTELIGENCIA ARTIFICIAL/DATASET/fashion-mnist_train.csv'\n",
        "# data = pd.read_csv(CSV_PATH)\n",
        "\n",
        "# --- X e y (todas las columnas menos 'label' son features) ---\n",
        "feature_cols = [c for c in data.columns if c != 'label']\n",
        "X = data[feature_cols].astype(np.float64).values\n",
        "y = data['label'].astype(int).values\n",
        "\n",
        "# Si los píxeles están 0..255, normaliza a [0,1] (mantiene tu estilo simple aquí)\n",
        "if X.max() > 1.0:\n",
        "    X = X / 255.0\n",
        "\n",
        "# --- Split 80/20 estratificado (muy importante para mantener balance por clase) ---\n",
        "train_dataset, test_dataset, y_train, y_test = train_test_split(\n",
        "    X, y, test_size=0.20, random_state=42, stratify=y\n",
        ")\n",
        "\n",
        "# Para mantener el mismo “naming” que usas:\n",
        "X_train = train_dataset\n",
        "X_test  = test_dataset\n",
        "\n",
        "# Número de ejemplos\n",
        "m_train = len(y_train)\n",
        "m_test  = len(y_test)\n",
        "\n",
        "# Mostrar una vista rápida (opcional)\n",
        "print(\"X_train shape:\", X_train.shape)\n",
        "print(\"y_train shape:\", y_train.shape)\n",
        "print(\"X_test  shape:\", X_test.shape)\n",
        "print(\"y_test  shape:\", y_test.shape)\n",
        "\n",
        "print(\"\\nEl 80% de ejemplos para entrenamiento son la cantidad de: {} de ejemplos\".format(m_train))\n",
        "print(\"El 20% de ejemplos para pruebas son la cantidad de: {} de ejemplos\".format(m_test))\n",
        "\n",
        "# --- Balance de clases (útil para tu informe) ---\n",
        "def resumen_clases(y_arr, titulo):\n",
        "    vc = pd.Series(y_arr).value_counts().sort_index()\n",
        "    print(\"\\n\" + titulo)\n",
        "    print(vc.to_string())\n",
        "\n",
        "resumen_clases(y,        \"Balance TOTAL por clase\")\n",
        "resumen_clases(y_train,  \"Balance TRAIN por clase (estratificado)\")\n",
        "resumen_clases(y_test,   \"Balance TEST por clase (estratificado)\")\n"
      ],
      "metadata": {
        "colab": {
          "base_uri": "https://localhost:8080/"
        },
        "id": "2mZjcV_Q0mJK",
        "outputId": "016d2090-e6f9-4178-98c8-8a07a2bb5126"
      },
      "execution_count": null,
      "outputs": [
        {
          "output_type": "stream",
          "name": "stdout",
          "text": [
            "X_train shape: (48000, 784)\n",
            "y_train shape: (48000,)\n",
            "X_test  shape: (12000, 784)\n",
            "y_test  shape: (12000,)\n",
            "\n",
            "El 80% de ejemplos para entrenamiento son la cantidad de: 48000 de ejemplos\n",
            "El 20% de ejemplos para pruebas son la cantidad de: 12000 de ejemplos\n",
            "\n",
            "Balance TOTAL por clase\n",
            "0    6000\n",
            "1    6000\n",
            "2    6000\n",
            "3    6000\n",
            "4    6000\n",
            "5    6000\n",
            "6    6000\n",
            "7    6000\n",
            "8    6000\n",
            "9    6000\n",
            "\n",
            "Balance TRAIN por clase (estratificado)\n",
            "0    4800\n",
            "1    4800\n",
            "2    4800\n",
            "3    4800\n",
            "4    4800\n",
            "5    4800\n",
            "6    4800\n",
            "7    4800\n",
            "8    4800\n",
            "9    4800\n",
            "\n",
            "Balance TEST por clase (estratificado)\n",
            "0    1200\n",
            "1    1200\n",
            "2    1200\n",
            "3    1200\n",
            "4    1200\n",
            "5    1200\n",
            "6    1200\n",
            "7    1200\n",
            "8    1200\n",
            "9    1200\n"
          ]
        }
      ]
    },
    {
      "cell_type": "code",
      "source": [
        "def  featureNormalize(X):\n",
        "    X_norm = X.copy()\n",
        "    mu = np.zeros(X.shape[1])\n",
        "    sigma = np.zeros(X.shape[1])\n",
        "\n",
        "    mu = np.mean(X, axis = 0)\n",
        "    sigma = np.std(X, axis = 0)\n",
        "    X_norm = (X - mu) / sigma\n",
        "\n",
        "    return X_norm, mu, sigma"
      ],
      "metadata": {
        "id": "TJA8Sjzc1M_-"
      },
      "execution_count": null,
      "outputs": []
    },
    {
      "cell_type": "code",
      "source": [
        "# Normaliza usando solo estadísticos de TRAIN (evitar fuga)\n",
        "X_train_norm, mu, sigma = featureNormalize(X_train)\n",
        "X_test_norm  = (X_test - mu) / sigma\n",
        "\n",
        "print(\"Normalizados ->\", X_train_norm.shape, X_test_norm.shape)"
      ],
      "metadata": {
        "colab": {
          "base_uri": "https://localhost:8080/"
        },
        "id": "wCWjmmeY11oU",
        "outputId": "11d9018e-a01d-45bf-d145-a3a7c82a193f"
      },
      "execution_count": null,
      "outputs": [
        {
          "output_type": "stream",
          "name": "stdout",
          "text": [
            "Normalizados -> (48000, 784) (12000, 784)\n"
          ]
        }
      ]
    },
    {
      "cell_type": "code",
      "source": [
        "X_train_norm"
      ],
      "metadata": {
        "colab": {
          "base_uri": "https://localhost:8080/"
        },
        "id": "m5O0sCHj2LWo",
        "outputId": "563860af-248c-4d3e-e269-ef7c284fcaa8"
      },
      "execution_count": null,
      "outputs": [
        {
          "output_type": "execute_result",
          "data": {
            "text/plain": [
              "array([[-0.01025234, -0.02353047, -0.03863899, ..., -0.15817667,\n",
              "        -0.09214684, -0.03325682],\n",
              "       [-0.01025234, -0.02353047, -0.03863899, ..., -0.15817667,\n",
              "        -0.09214684, -0.03325682],\n",
              "       [-0.01025234, -0.02353047, -0.03863899, ..., -0.15817667,\n",
              "        -0.09214684, -0.03325682],\n",
              "       ...,\n",
              "       [-0.01025234, -0.02353047, -0.03863899, ..., -0.15817667,\n",
              "        -0.09214684, -0.03325682],\n",
              "       [-0.01025234, -0.02353047, -0.03863899, ..., -0.15817667,\n",
              "        -0.09214684, -0.03325682],\n",
              "       [-0.01025234, -0.02353047, -0.03863899, ..., -0.15817667,\n",
              "        -0.09214684, -0.03325682]])"
            ]
          },
          "metadata": {},
          "execution_count": 10
        }
      ]
    },
    {
      "cell_type": "code",
      "source": [
        "# Obtener las dimensiones de la matriz de características X_train\n",
        "m, n = X_train.shape\n",
        "\n",
        "# X_train ya ha sido normalizado previamente, por lo que simplemente asignamos la versión normalizada a X_train\n",
        "X_train = X_train_norm\n",
        "\n",
        "# Las dimensiones de la matriz de características X_train se utilizan en el proceso de entrenamiento del modelo\n",
        "# m representa el número de ejemplos de entrenamiento\n",
        "# n representa el número de características\n",
        "# Al asignar X_norm a X_train, nos aseguramos de que los datos de entrenamiento estén normalizados y listos para su uso en el modelo\n"
      ],
      "metadata": {
        "id": "tK9ibZKN4s3z"
      },
      "execution_count": null,
      "outputs": []
    },
    {
      "cell_type": "code",
      "source": [
        "# Seleccionar aleatoriamente 100 puntos de datos para mostrar\n",
        "# Se utiliza np.random.choice para seleccionar aleatoriamente 100 índices de entre 0 y m-1, sin reemplazo\n",
        "# donde m es el número total de ejemplos de entrenamiento\n",
        "rand_indices = np.random.choice(m, 100, replace=False)\n",
        "\n",
        "# Seleccionar las filas correspondientes a los índices aleatorios de X_train\n",
        "# Utilizamos iloc para acceder a las filas utilizando los índices seleccionados aleatoriamente\n",
        "sel = X_train[rand_indices, :]\n",
        "\n",
        "# La variable 'sel' ahora contiene 100 ejemplos de datos de entrenamiento seleccionados aleatoriamente"
      ],
      "metadata": {
        "id": "JFfRWG6o5fHS"
      },
      "execution_count": null,
      "outputs": []
    },
    {
      "cell_type": "markdown",
      "source": [
        "# Vectorización de regresión logística"
      ],
      "metadata": {
        "id": "nfvpYBGA59Wh"
      }
    },
    {
      "cell_type": "code",
      "source": [
        "import numpy as np\n",
        "def sigmoid(z):\n",
        "    \"\"\"Calcula la sigmoide de z.\"\"\"\n",
        "    z = np.array(z, dtype=np.float64)\n",
        "    return 1.0 / (1.0 + np.exp(-z))"
      ],
      "metadata": {
        "id": "vzOA2ImD5-2M"
      },
      "execution_count": null,
      "outputs": []
    },
    {
      "cell_type": "code",
      "source": [
        "def calcularCosto(theta, X, y):\n",
        "    \"\"\" Costo logístico SIN regularización (para graficar). \"\"\"\n",
        "    m = y.size\n",
        "    h = sigmoid(X.dot(theta.T))\n",
        "    eps = 1e-12\n",
        "    J = (1.0/m) * (-y.dot(np.log(h+eps)) - (1-y).dot(np.log(1-h+eps)))\n",
        "    return J"
      ],
      "metadata": {
        "id": "A0sX2ikj65dZ"
      },
      "execution_count": null,
      "outputs": []
    },
    {
      "cell_type": "code",
      "source": [
        "def descensoGradiente(theta, X, y, alpha, num_iters, lambda_=0.0):\n",
        "    \"\"\" Descenso por gradiente con L2 opcional (no se regulariza theta[0]). \"\"\"\n",
        "    m = y.shape[0]\n",
        "    theta = theta.copy().astype(np.float64)\n",
        "    J_history = []\n",
        "\n",
        "    for i in range(num_iters):\n",
        "        h = sigmoid(X.dot(theta.T))\n",
        "        grad = (1.0/m) * (X.T.dot(h - y))\n",
        "        grad[1:] += (lambda_/m) * theta[1:]\n",
        "        theta -= alpha * grad.T\n",
        "        J_history.append(calcularCosto(theta, X, y))\n",
        "    return theta, J_history"
      ],
      "metadata": {
        "id": "T07Ouz8E69SH"
      },
      "execution_count": null,
      "outputs": []
    },
    {
      "cell_type": "code",
      "source": [
        "def lrCostFunction(theta, X, y, lambda_):\n",
        "    \"\"\" Costo + gradiente regularizados (vectorizado). \"\"\"\n",
        "    m = y.size\n",
        "    if y.dtype == bool:\n",
        "        y = y.astype(int)\n",
        "    h = sigmoid(X.dot(theta.T))\n",
        "    eps = 1e-12\n",
        "    J = (1.0/m) * (-y.dot(np.log(h+eps)) - (1-y).dot(np.log(1-h+eps))) \\\n",
        "        + (lambda_/(2*m)) * np.sum(theta[1:]**2)\n",
        "    grad = (1.0/m) * (X.T.dot(h - y))\n",
        "    grad[1:] += (lambda_/m) * theta[1:]\n",
        "    return J, grad"
      ],
      "metadata": {
        "id": "_AG2JOjZ7S4u"
      },
      "execution_count": null,
      "outputs": []
    },
    {
      "cell_type": "code",
      "source": [
        "# CELDA 6: OvR con GD (subconjunto) — para graficar costo por iteración\n",
        "import matplotlib.pyplot as plt\n",
        "\n",
        "def OneVsAll(X, y, num_labels, lambda_):\n",
        "    m, n = X.shape\n",
        "    Xb = np.concatenate([np.ones((m,1)), X], axis=1)\n",
        "    all_theta = np.zeros((num_labels, n+1))\n",
        "    alpha = 0.5\n",
        "    num_iters = 80\n",
        "\n",
        "    fig, ax = plt.subplots()\n",
        "    for c in range(num_labels):\n",
        "        initial_theta = np.zeros(n+1)\n",
        "        y_c = (y == c).astype(int)\n",
        "        theta_c, J_hist = descensoGradiente(initial_theta, Xb, y_c, alpha, num_iters, lambda_)\n",
        "        all_theta[c, :] = theta_c\n",
        "        ax.plot(np.arange(len(J_hist)), J_hist, lw=2, label=f\"Clase {c}\")\n",
        "\n",
        "    ax.set_xlabel(\"Número de iteraciones\"); ax.set_ylabel(\"Costo J\")\n",
        "    ax.set_title(\"Convergencia del costo por clase (OvR con GD - Subconjunto)\")\n",
        "    ax.legend(ncols=2, fontsize=8); plt.show()\n",
        "    return all_theta"
      ],
      "metadata": {
        "id": "CD3fPfiy8t8Z"
      },
      "execution_count": null,
      "outputs": []
    },
    {
      "cell_type": "code",
      "source": [
        "def predictOneVsAll(all_theta, X):\n",
        "    m = X.shape[0]\n",
        "    Xb = np.concatenate([np.ones((m,1)), X], axis=1)\n",
        "    probs = sigmoid(Xb.dot(all_theta.T))\n",
        "    p = np.argmax(probs, axis=1)\n",
        "    return p, probs"
      ],
      "metadata": {
        "id": "yItOUmomp7bO"
      },
      "execution_count": null,
      "outputs": []
    },
    {
      "cell_type": "code",
      "source": [
        "\n",
        "# Subconjunto estratificado para mostrar curvas\n",
        "from sklearn.model_selection import train_test_split\n",
        "N_SUBTRAIN = 20000\n",
        "X_sub, _, y_sub, _ = train_test_split(\n",
        "    X_train_norm, y_train, train_size=N_SUBTRAIN, random_state=42, stratify=y_train\n",
        ")\n",
        "\n",
        "lambda_gd = 1.0\n",
        "all_theta_sub = OneVsAll(X_sub, y_sub, num_labels=num_labels, lambda_=lambda_gd)\n",
        "\n",
        "# Métricas en el subconjunto\n",
        "from sklearn.metrics import log_loss, accuracy_score\n",
        "pred_sub, prob_sub = predictOneVsAll(all_theta_sub, X_sub)\n",
        "print(\"SUBTRAIN -> Accuracy:\", accuracy_score(y_sub, pred_sub), \" | LogLoss:\", log_loss(y_sub, prob_sub, labels=list(range(10))))"
      ],
      "metadata": {
        "colab": {
          "base_uri": "https://localhost:8080/",
          "height": 547
        },
        "id": "uqqe5dFaqHeW",
        "outputId": "9803906e-6fd0-4c76-fab4-1174294e5ab5"
      },
      "execution_count": null,
      "outputs": [
        {
          "output_type": "display_data",
          "data": {
            "text/plain": [
              "<Figure size 640x480 with 1 Axes>"
            ],
            "image/png": "[encoded data removed]"
          },
          "metadata": {}
        },
        {
          "output_type": "stream",
          "name": "stdout",
          "text": [
            "SUBTRAIN -> Accuracy: 0.80925  | LogLoss: 0.8852065566096382\n"
          ]
        },
        {
          "output_type": "stream",
          "name": "stderr",
          "text": [
            "/usr/local/lib/python3.12/dist-packages/sklearn/metrics/_classification.py:3001: UserWarning: The y_pred values do not sum to one. Make sure to pass probabilities.\n",
            "  warnings.warn(\n"
          ]
        }
      ]
    },
    {
      "cell_type": "code",
      "source": [
        "# CELDA 7: OvR con optimize.minimize (CG) entrenando TODO el TRAIN\n",
        "from scipy import optimize\n",
        "import matplotlib.pyplot as plt\n",
        "from sklearn.metrics import classification_report, confusion_matrix\n",
        "\n",
        "def OneVsAllOM(X, y, num_labels, lambda_, maxiter=50):\n",
        "    m, n = X.shape\n",
        "    Xb = np.concatenate([np.ones((m,1)), X], axis=1)\n",
        "    all_theta = np.zeros((num_labels, n+1))\n",
        "\n",
        "    for c in range(num_labels):\n",
        "        initial_theta = np.zeros(n+1)\n",
        "        y_c = (y == c).astype(int)\n",
        "\n",
        "        def cost_fun(t):\n",
        "            J, _ = lrCostFunction(t, Xb, y_c, lambda_)\n",
        "            return J\n",
        "\n",
        "        def grad_fun(t):\n",
        "            _, g = lrCostFunction(t, Xb, y_c, lambda_)\n",
        "            return g\n",
        "\n",
        "        res = optimize.minimize(cost_fun, initial_theta, jac=grad_fun,\n",
        "                                method='CG', options={'maxiter': maxiter, 'gtol':1e-4})\n",
        "        all_theta[c, :] = res.x\n",
        "        print(f\"Clase {c} -> J_final~{res.fun:.4f} | iters~{res.nit}\")\n",
        "    return all_theta\n",
        "\n",
        "lambda_om = 1.0\n",
        "all_theta = OneVsAllOM(X_train_norm, y_train, num_labels=num_labels, lambda_=lambda_om, maxiter=50)\n",
        "\n",
        "# Evaluación en TEST\n",
        "pred_te, prob_te = predictOneVsAll(all_theta, X_test_norm)\n",
        "acc_te = accuracy_score(y_test, pred_te)\n",
        "ce_te  = log_loss(y_test, prob_te, labels=list(range(10)))\n",
        "print(f\"TEST -> Accuracy: {acc_te:.4f} | LogLoss: {ce_te:.4f}\")\n",
        "\n",
        "print(\"\\nReporte de clasificación (TEST):\")\n",
        "print(classification_report(y_test, pred_te, digits=4))\n",
        "\n",
        "cm = confusion_matrix(y_test, pred_te, labels=list(range(10)))\n",
        "plt.figure(figsize=(7,6))\n",
        "plt.imshow(cm, interpolation='nearest')\n",
        "plt.title(\"Matriz de Confusión — TEST\")\n",
        "plt.xlabel(\"Predicho\"); plt.ylabel(\"Real\")\n",
        "plt.colorbar()\n",
        "plt.xticks(ticks=range(10), labels=range(10)); plt.yticks(ticks=range(10), labels=range(10))\n",
        "plt.show()\n"
      ],
      "metadata": {
        "colab": {
          "base_uri": "https://localhost:8080/",
          "height": 1000
        },
        "id": "7fb3S3T18x99",
        "outputId": "0a8a6876-6a3b-432c-b6e0-17a67ef5f7dd"
      },
      "execution_count": null,
      "outputs": [
        {
          "output_type": "stream",
          "name": "stdout",
          "text": [
            "Clase 0 -> J_final~0.0958 | iters~50\n",
            "Clase 1 -> J_final~0.0184 | iters~50\n",
            "Clase 2 -> J_final~0.1377 | iters~50\n",
            "Clase 3 -> J_final~0.0786 | iters~50\n",
            "Clase 4 -> J_final~0.1239 | iters~50\n",
            "Clase 5 -> J_final~0.0502 | iters~50\n",
            "Clase 6 -> J_final~0.1740 | iters~50\n",
            "Clase 7 -> J_final~0.0470 | iters~50\n",
            "Clase 8 -> J_final~0.0444 | iters~50\n",
            "Clase 9 -> J_final~0.0334 | iters~50\n",
            "TEST -> Accuracy: 0.8517 | LogLoss: 0.4712\n",
            "\n",
            "Reporte de clasificación (TEST):\n",
            "              precision    recall  f1-score   support\n",
            "\n",
            "           0     0.7865    0.8167    0.8013      1200\n",
            "           1     0.9606    0.9758    0.9682      1200\n",
            "           2     0.7750    0.7608    0.7679      1200\n",
            "           3     0.8509    0.8800    0.8652      1200\n",
            "           4     0.7481    0.8017    0.7739      1200\n",
            "           5     0.9107    0.9175    0.9141      1200\n",
            "           6     0.6727    0.5550    0.6082      1200\n",
            "           7     0.9081    0.9225    0.9153      1200\n",
            "           8     0.9397    0.9483    0.9440      1200\n",
            "           9     0.9376    0.9383    0.9379      1200\n",
            "\n",
            "    accuracy                         0.8517     12000\n",
            "   macro avg     0.8490    0.8517    0.8496     12000\n",
            "weighted avg     0.8490    0.8517    0.8496     12000\n",
            "\n"
          ]
        },
        {
          "output_type": "stream",
          "name": "stderr",
          "text": [
            "/usr/local/lib/python3.12/dist-packages/sklearn/metrics/_classification.py:3001: UserWarning: The y_pred values do not sum to one. Make sure to pass probabilities.\n",
            "  warnings.warn(\n"
          ]
        },
        {
          "output_type": "display_data",
          "data": {
            "text/plain": [
              "<Figure size 700x600 with 2 Axes>"
            ],
            "image/png": "[encoded data removed]"
          },
          "metadata": {}
        }
      ]
    },
    {
      "cell_type": "code",
      "source": [
        "lambda_ = 0.1\n",
        "all_theta = OneVsAllOM(X, y, num_labels, lambda_)\n",
        "print(all_theta.shape)"
      ],
      "metadata": {
        "colab": {
          "base_uri": "https://localhost:8080/"
        },
        "id": "KR0y-bow81Di",
        "outputId": "2ba3aab2-99b1-4518-8e9d-4f6c3a9e5779"
      },
      "execution_count": null,
      "outputs": [
        {
          "output_type": "stream",
          "name": "stdout",
          "text": [
            "Clase 0 -> J_final~0.0980 | iters~50\n",
            "Clase 1 -> J_final~0.0182 | iters~50\n",
            "Clase 2 -> J_final~0.1376 | iters~50\n",
            "Clase 3 -> J_final~0.0826 | iters~50\n",
            "Clase 4 -> J_final~0.1255 | iters~50\n",
            "Clase 5 -> J_final~0.0387 | iters~50\n",
            "Clase 6 -> J_final~0.1826 | iters~50\n",
            "Clase 7 -> J_final~0.0430 | iters~50\n",
            "Clase 8 -> J_final~0.0439 | iters~50\n",
            "Clase 9 -> J_final~0.0295 | iters~50\n",
            "(10, 785)\n"
          ]
        }
      ]
    },
    {
      "cell_type": "code",
      "source": [
        "print(all_theta)"
      ],
      "metadata": {
        "colab": {
          "base_uri": "https://localhost:8080/"
        },
        "id": "qi-AvdIW870T",
        "outputId": "17713edb-ab83-4c71-a492-3da36a9a557a"
      },
      "execution_count": null,
      "outputs": [
        {
          "output_type": "stream",
          "name": "stdout",
          "text": [
            "[[-1.64270334e+00 -5.47861748e-04  9.13736418e-04 ... -8.94105329e-02\n",
            "  -1.71973163e-02  1.13255652e-02]\n",
            " [-3.98905730e+00 -3.16362132e-05  1.73414726e-04 ... -1.28999330e-02\n",
            "   2.19943744e-02 -2.95513757e-03]\n",
            " [-2.24680724e+00 -2.57633966e-04 -3.49013430e-04 ...  2.56214492e-01\n",
            "   7.90281254e-02  1.68137152e-02]\n",
            " ...\n",
            " [-2.19283114e+00 -3.39056179e-06 -1.85721676e-05 ... -2.50118901e-02\n",
            "  -5.68951987e-03 -2.48235096e-03]\n",
            " [-3.74784170e+00 -4.41833260e-04 -3.27632806e-04 ... -1.70431149e-01\n",
            "  -1.05586399e-01 -2.30194458e-02]\n",
            " [-6.82744249e+00 -6.45429468e-06  2.74309632e-03 ... -6.84176496e-02\n",
            "   1.39708266e-02  1.31222147e-02]]\n"
          ]
        }
      ]
    },
    {
      "cell_type": "code",
      "source": [
        "def predictOneVsAll(all_theta, X):\n",
        "    \"\"\"\n",
        "    Devuelve un vector de predicciones para cada ejemplo en la matriz X.\n",
        "    Tenga en cuenta que X contiene los ejemplos en filas.\n",
        "    all_theta es una matriz donde la i-ésima fila es un vector theta de regresión logística entrenada para la i-ésima clase.\n",
        "    Debe establecer p en un vector de valores de 0..K-1 (por ejemplo, p = [0, 2, 0, 1]\n",
        "    predice clases 0, 2, 0, 1 para 4 ejemplos).\n",
        "\n",
        "    Parametros\n",
        "    ----------\n",
        "    all_theta : array_like\n",
        "        The trained parameters for logistic regression for each class.\n",
        "        This is a matrix of shape (K x n+1) where K is number of classes\n",
        "        and n is number of features without the bias.\n",
        "\n",
        "    X : array_like\n",
        "        Data points to predict their labels. This is a matrix of shape\n",
        "        (m x n) where m is number of data points to predict, and n is number\n",
        "        of features without the bias term. Note we add the bias term for X in\n",
        "        this function.\n",
        "\n",
        "    Devuelve\n",
        "    -------\n",
        "    p : array_like\n",
        "        The predictions for each data point in X. This is a vector of shape (m, ).\n",
        "    \"\"\"\n",
        "\n",
        "    m = X.shape[0];\n",
        "    num_labels = all_theta.shape[0]\n",
        "\n",
        "    p = np.zeros(m)\n",
        "\n",
        "    # Add ones to the X data matrix\n",
        "    X = np.concatenate([np.ones((m, 1)), X], axis=1)\n",
        "    p = np.argmax(sigmoid(X.dot(all_theta.T)), axis = 1)\n",
        "\n",
        "    return p"
      ],
      "metadata": {
        "id": "pAyyfNRffwl4"
      },
      "execution_count": null,
      "outputs": []
    },
    {
      "cell_type": "code",
      "source": [
        "print(X.shape)\n",
        "pred = predictOneVsAll(all_theta, X)\n",
        "print('Precision del conjuto de entrenamiento: {:.2f}%'.format(np.mean(pred == y) * 100))\n",
        "XPrueba = X[100:145, :].copy()\n",
        "print(XPrueba.shape)\n",
        "#print(np.ones((1)))\n",
        "#print(XPrueba)\n",
        "#p = np.zeros(1)\n",
        "XPrueba = np.concatenate([np.ones((45, 1)), XPrueba], axis=1)\n",
        "print(XPrueba.shape)\n",
        "p = np.argmax(sigmoid(XPrueba.dot(all_theta.T)), axis = 1)\n",
        "print(p)\n",
        "\n",
        "# displayData(X[1002:1003, :])\n",
        "print(y[100:145])"
      ],
      "metadata": {
        "colab": {
          "base_uri": "https://localhost:8080/"
        },
        "id": "LfyN8e6-f0d_",
        "outputId": "013ec03d-728c-43c7-ae55-189154017f89"
      },
      "execution_count": null,
      "outputs": [
        {
          "output_type": "stream",
          "name": "stdout",
          "text": [
            "(60000, 784)\n",
            "Precision del conjuto de entrenamiento: 85.93%\n",
            "(45, 784)\n",
            "(45, 785)\n",
            "[8 5 0 5 3 0 8 5 4 1 0 7 6 1 9 7 6 9 3 3 2 6 0 6 3 0 3 5 9 7 7 3 3 6 7 2 4\n",
            " 1 3 1 6 2 3 6 3]\n",
            "[8 5 0 5 3 0 8 5 6 1 0 7 6 1 9 7 6 9 3 3 2 6 0 6 3 6 3 5 9 7 7 6 3 6 7 2 4\n",
            " 1 3 1 0 6 3 0 3]\n"
          ]
        }
      ]
    }
  ]
}