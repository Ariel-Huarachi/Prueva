{
  "cells": [
    {
      "cell_type": "markdown",
      "metadata": {
        "id": "pE_iwdR5m6xH"
      },
      "source": [
        "[![Open In Colab](https://colab.research.google.com/assets/colab-badge.svg)](https://colab.research.google.com/github/sensioai/blog/blob/master/028_pytorch_nn/pytorch_nn.ipynb)"
      ]
    },
    {
      "cell_type": "markdown",
      "metadata": {
        "id": "DjhgRWO_m6xK"
      },
      "source": [
        "# Pytorch - Redes Neuronales"
      ]
    },
    {
      "cell_type": "markdown",
      "metadata": {
        "id": "CVNrcQ_5m6xK"
      },
      "source": [
        "En el post [anterior](https://sensioai.com/blog/027_pytorch_intro) hicimos una introducción al framework de `redes neuronales` `Pytorch`. Hablamos de sus tres elementos fundamentales: el objeto `tensor` (similar al `array` de `NumPy`) `autograd` (que nos permite calcular derivadas de manera automáticas) y el soporte GPU. En este post vamos a entrar en detalle en la  funcionalidad que nos ofrece la librería para diseñar redes neuronales de manera flexible."
      ]
    },
    {
      "cell_type": "code",
      "execution_count": null,
      "metadata": {
        "ExecuteTime": {
          "end_time": "2020-08-15T12:21:45.471625Z",
          "start_time": "2020-08-15T12:21:45.002765Z"
        },
        "id": "4hnzhQywm6xL"
      },
      "outputs": [],
      "source": [
        "import torch"
      ]
    },
    {
      "cell_type": "markdown",
      "metadata": {
        "heading_collapsed": true,
        "id": "IqUKyQ9Nm6xM"
      },
      "source": [
        "## Modelos secuenciales"
      ]
    },
    {
      "cell_type": "markdown",
      "metadata": {
        "hidden": true,
        "id": "MDSz2Mbsm6xM"
      },
      "source": [
        "La forma más sencilla de definir una `red neuronal` en `Pytorch` es utilizando la clase `Sequentail`. Esta clase nos permite definir una secuencia de capas, que se aplicarán de manera secuencial (las salidas de una capa serán la entrada de la siguiente). Ésto ya lo conocemos de posts anteriores, ya que es la forma ideal de definir un `Perceptrón Multicapa`."
      ]
    },
    {
      "cell_type": "code",
      "execution_count": null,
      "metadata": {
        "ExecuteTime": {
          "end_time": "2020-08-15T12:21:45.486329Z",
          "start_time": "2020-08-15T12:21:45.472624Z"
        },
        "hidden": true,
        "id": "V5KEpUHVm6xN"
      },
      "outputs": [],
      "source": [
        "D_in, H, D_out = 784, 100, 10\n",
        "\n",
        "model = torch.nn.Sequential(\n",
        "    torch.nn.Linear(D_in, H),\n",
        "    torch.nn.ReLU(),\n",
        "    torch.nn.Linear(H, D_out),\n",
        ")\n",
        "\n",
        "# D_in, H1, H2, D_out = 784, 100, 50, 10\n",
        "# model = torch.nn.Sequential(\n",
        "#     torch.nn.Linear(D_in, H1),\n",
        "#     torch.nn.ReLU(),\n",
        "#     torch.nn.Linear(H1, H2),\n",
        "#     torch.nn.ReLU(),\n",
        "#     torch.nn.Linear(H2, D_out),\n",
        "# )\n"
      ]
    },
    {
      "cell_type": "markdown",
      "metadata": {
        "hidden": true,
        "id": "8Ea8TfSWm6xO"
      },
      "source": [
        "El modelo anterior es un `MLP` con 784 entradas, 100 neuronas en la capa oculta y 10 salidas. Podemos usar este modelo para hacer un clasificador de imágenes con el dataset MNIST. Pero primero, vamos a ver como podemos calcular las salidas del modelo a partir de unas entradas de ejemplo."
      ]
    },
    {
      "cell_type": "code",
      "execution_count": null,
      "metadata": {
        "ExecuteTime": {
          "end_time": "2020-08-15T12:21:45.502329Z",
          "start_time": "2020-08-15T12:21:45.487329Z"
        },
        "hidden": true,
        "id": "WVB30MPem6xO",
        "outputId": "b8402942-f76c-4f2c-ecdd-4cd4d17cd50b",
        "colab": {
          "base_uri": "https://localhost:8080/"
        }
      },
      "outputs": [
        {
          "output_type": "execute_result",
          "data": {
            "text/plain": [
              "torch.Size([600, 10])"
            ]
          },
          "metadata": {},
          "execution_count": 44
        }
      ],
      "source": [
        "outputs = model(torch.randn(600, 784))\n",
        "outputs.shape"
      ]
    },
    {
      "cell_type": "code",
      "source": [
        "print(outputs[0][:])"
      ],
      "metadata": {
        "colab": {
          "base_uri": "https://localhost:8080/"
        },
        "id": "x7mk9EVzLeBV",
        "outputId": "b1009b89-d67d-429e-b5f4-4c34ccf3a9fc"
      },
      "execution_count": null,
      "outputs": [
        {
          "output_type": "stream",
          "name": "stdout",
          "text": [
            "tensor([-0.1676,  0.1312,  0.2731,  0.0290,  0.1970, -0.4047,  0.1382,  0.0532,\n",
            "         0.2776,  0.2289], grad_fn=<SliceBackward0>)\n"
          ]
        }
      ]
    },
    {
      "cell_type": "markdown",
      "metadata": {
        "hidden": true,
        "id": "I-J9Sa6Qm6xP"
      },
      "source": [
        "Como puedes ver, simplemente le pasamos los inputs al modelo (llamándolo como una función). En este caso, usamos un tensor con 64 vectores de 784 valores. Es importante remarcar que los modelos de `Pytorch` (por lo general) siempre esperan que la primera dimensión sea la dimensión *batch*. Si queremos entrenar esta red en una GPU, es tan sencillo como"
      ]
    },
    {
      "cell_type": "code",
      "source": [
        "model"
      ],
      "metadata": {
        "colab": {
          "base_uri": "https://localhost:8080/"
        },
        "id": "hSs12izZ97se",
        "outputId": "913b68d3-2d19-4e66-cb51-b8239b2c8196"
      },
      "execution_count": null,
      "outputs": [
        {
          "output_type": "execute_result",
          "data": {
            "text/plain": [
              "Sequential(\n",
              "  (0): Linear(in_features=784, out_features=100, bias=True)\n",
              "  (1): ReLU()\n",
              "  (2): Linear(in_features=100, out_features=10, bias=True)\n",
              ")"
            ]
          },
          "metadata": {},
          "execution_count": 46
        }
      ]
    },
    {
      "cell_type": "code",
      "execution_count": null,
      "metadata": {
        "ExecuteTime": {
          "end_time": "2020-08-15T12:21:46.777020Z",
          "start_time": "2020-08-15T12:21:45.503329Z"
        },
        "hidden": true,
        "id": "VjtJxIM_m6xQ",
        "outputId": "014d4148-bda7-46b4-f920-78d83748face",
        "colab": {
          "base_uri": "https://localhost:8080/"
        }
      },
      "outputs": [
        {
          "output_type": "execute_result",
          "data": {
            "text/plain": [
              "Sequential(\n",
              "  (0): Linear(in_features=784, out_features=100, bias=True)\n",
              "  (1): ReLU()\n",
              "  (2): Linear(in_features=100, out_features=10, bias=True)\n",
              ")"
            ]
          },
          "metadata": {},
          "execution_count": 47
        }
      ],
      "source": [
        "model.to(\"cuda\")"
      ]
    },
    {
      "cell_type": "markdown",
      "metadata": {
        "hidden": true,
        "id": "ZxmpSqz6m6xQ"
      },
      "source": [
        "Vamos a ver ahora como entrenar este modelo con el dataset MNIST."
      ]
    },
    {
      "cell_type": "code",
      "execution_count": null,
      "metadata": {
        "ExecuteTime": {
          "end_time": "2020-08-15T12:22:05.622262Z",
          "start_time": "2020-08-15T12:21:46.778019Z"
        },
        "hidden": true,
        "id": "OmlXe8Gpm6xR",
        "outputId": "6003a82d-397e-4b5d-dece-ec1cdacb95dc",
        "colab": {
          "base_uri": "https://localhost:8080/"
        }
      },
      "outputs": [
        {
          "output_type": "execute_result",
          "data": {
            "text/plain": [
              "((70000, 784), (70000,))"
            ]
          },
          "metadata": {},
          "execution_count": 48
        }
      ],
      "source": [
        "from sklearn.datasets import fetch_openml\n",
        "\n",
        "# descarga datos\n",
        "\n",
        "mnist = fetch_openml('mnist_784', version=1)\n",
        "X, Y = mnist[\"data\"], mnist[\"target\"]\n",
        "\n",
        "X.shape, Y.shape"
      ]
    },
    {
      "cell_type": "code",
      "execution_count": null,
      "metadata": {
        "ExecuteTime": {
          "end_time": "2020-08-15T12:22:05.761911Z",
          "start_time": "2020-08-15T12:22:05.624102Z"
        },
        "hidden": true,
        "id": "BzhE25udm6xR"
      },
      "outputs": [],
      "source": [
        "# import numpy as np\n",
        "\n",
        "# normalización y split\n",
        "import numpy as np\n",
        "x_2=np.array(X)\n",
        "y_2=np.array(Y)\n",
        "\n",
        "# normalización y split\n",
        "\n",
        "X_train =x_2[:60000] / 255.\n",
        "X_test =x_2[60000:] / 255.\n",
        "y_train = y_2[:60000].astype(np.int32)\n",
        "y_test = y_2[60000:].astype(np.int32)\n",
        "\n",
        "\n",
        "\n",
        "# X_train, X_test, y_train, y_test = X[:60000] / 255., X[60000:] / 255., Y[:60000].astype(np.float32), Y[60000:].astype(np.float32)"
      ]
    },
    {
      "cell_type": "code",
      "execution_count": null,
      "metadata": {
        "ExecuteTime": {
          "end_time": "2020-08-15T12:22:05.777964Z",
          "start_time": "2020-08-15T12:22:05.763102Z"
        },
        "hidden": true,
        "id": "pDJK07Jpm6xR"
      },
      "outputs": [],
      "source": [
        "# función de pérdida y derivada\n",
        "\n",
        "def softmax(x):\n",
        "    return torch.exp(x) / torch.exp(x).sum(axis=-1,keepdims=True)\n",
        "\n",
        "def cross_entropy(output, target):\n",
        "    logits = output[torch.arange(len(output)), target]\n",
        "    loss = - logits + torch.log(torch.sum(torch.exp(output), axis=-1))\n",
        "    loss = loss.mean()\n",
        "    return loss"
      ]
    },
    {
      "cell_type": "code",
      "source": [
        "# X_train"
      ],
      "metadata": {
        "id": "E0mXU4_t5c-n"
      },
      "execution_count": null,
      "outputs": []
    },
    {
      "cell_type": "code",
      "source": [
        "torch.cuda.is_available()"
      ],
      "metadata": {
        "colab": {
          "base_uri": "https://localhost:8080/"
        },
        "id": "qHL3LiGejvr0",
        "outputId": "061234b6-1ec6-4372-a2f1-402632db4913"
      },
      "execution_count": null,
      "outputs": [
        {
          "output_type": "execute_result",
          "data": {
            "text/plain": [
              "True"
            ]
          },
          "metadata": {},
          "execution_count": 52
        }
      ]
    },
    {
      "cell_type": "code",
      "source": [
        "print(X)"
      ],
      "metadata": {
        "id": "tZCJjxDZyenK",
        "colab": {
          "base_uri": "https://localhost:8080/"
        },
        "outputId": "c972fca5-4bc9-456c-fd21-18918f22a596"
      },
      "execution_count": null,
      "outputs": [
        {
          "output_type": "stream",
          "name": "stdout",
          "text": [
            "       pixel1  pixel2  pixel3  pixel4  pixel5  pixel6  pixel7  pixel8  pixel9  \\\n",
            "0           0       0       0       0       0       0       0       0       0   \n",
            "1           0       0       0       0       0       0       0       0       0   \n",
            "2           0       0       0       0       0       0       0       0       0   \n",
            "3           0       0       0       0       0       0       0       0       0   \n",
            "4           0       0       0       0       0       0       0       0       0   \n",
            "...       ...     ...     ...     ...     ...     ...     ...     ...     ...   \n",
            "69995       0       0       0       0       0       0       0       0       0   \n",
            "69996       0       0       0       0       0       0       0       0       0   \n",
            "69997       0       0       0       0       0       0       0       0       0   \n",
            "69998       0       0       0       0       0       0       0       0       0   \n",
            "69999       0       0       0       0       0       0       0       0       0   \n",
            "\n",
            "       pixel10  ...  pixel775  pixel776  pixel777  pixel778  pixel779  \\\n",
            "0            0  ...         0         0         0         0         0   \n",
            "1            0  ...         0         0         0         0         0   \n",
            "2            0  ...         0         0         0         0         0   \n",
            "3            0  ...         0         0         0         0         0   \n",
            "4            0  ...         0         0         0         0         0   \n",
            "...        ...  ...       ...       ...       ...       ...       ...   \n",
            "69995        0  ...         0         0         0         0         0   \n",
            "69996        0  ...         0         0         0         0         0   \n",
            "69997        0  ...         0         0         0         0         0   \n",
            "69998        0  ...         0         0         0         0         0   \n",
            "69999        0  ...         0         0         0         0         0   \n",
            "\n",
            "       pixel780  pixel781  pixel782  pixel783  pixel784  \n",
            "0             0         0         0         0         0  \n",
            "1             0         0         0         0         0  \n",
            "2             0         0         0         0         0  \n",
            "3             0         0         0         0         0  \n",
            "4             0         0         0         0         0  \n",
            "...         ...       ...       ...       ...       ...  \n",
            "69995         0         0         0         0         0  \n",
            "69996         0         0         0         0         0  \n",
            "69997         0         0         0         0         0  \n",
            "69998         0         0         0         0         0  \n",
            "69999         0         0         0         0         0  \n",
            "\n",
            "[70000 rows x 784 columns]\n"
          ]
        }
      ]
    },
    {
      "cell_type": "code",
      "execution_count": null,
      "metadata": {
        "ExecuteTime": {
          "end_time": "2020-08-15T12:22:07.268014Z",
          "start_time": "2020-08-15T12:22:05.778966Z"
        },
        "hidden": true,
        "id": "EjdhOJ90m6xS",
        "outputId": "0c9c4a00-89df-4b55-b3ff-6e72ef543cfb",
        "colab": {
          "base_uri": "https://localhost:8080/"
        }
      },
      "outputs": [
        {
          "output_type": "stream",
          "name": "stdout",
          "text": [
            "Epoch 10/350 Loss 1.80185\n",
            "Epoch 20/350 Loss 1.42818\n",
            "Epoch 30/350 Loss 1.16257\n",
            "Epoch 40/350 Loss 1.00993\n",
            "Epoch 50/350 Loss 0.88668\n",
            "Epoch 60/350 Loss 0.80146\n",
            "Epoch 70/350 Loss 0.73098\n",
            "Epoch 80/350 Loss 0.67588\n",
            "Epoch 90/350 Loss 0.63143\n",
            "Epoch 100/350 Loss 0.59478\n",
            "Epoch 110/350 Loss 0.56501\n",
            "Epoch 120/350 Loss 0.54098\n",
            "Epoch 130/350 Loss 0.51772\n",
            "Epoch 140/350 Loss 0.49700\n",
            "Epoch 150/350 Loss 0.47850\n",
            "Epoch 160/350 Loss 0.46187\n",
            "Epoch 170/350 Loss 0.44682\n",
            "Epoch 180/350 Loss 0.43311\n",
            "Epoch 190/350 Loss 0.42056\n",
            "Epoch 200/350 Loss 0.40902\n",
            "Epoch 210/350 Loss 0.39835\n",
            "Epoch 220/350 Loss 0.38844\n",
            "Epoch 230/350 Loss 0.37921\n",
            "Epoch 240/350 Loss 0.37058\n",
            "Epoch 250/350 Loss 0.36249\n",
            "Epoch 260/350 Loss 0.35486\n",
            "Epoch 270/350 Loss 0.34767\n",
            "Epoch 280/350 Loss 0.34087\n",
            "Epoch 290/350 Loss 0.33443\n",
            "Epoch 300/350 Loss 0.32831\n",
            "Epoch 310/350 Loss 0.32249\n",
            "Epoch 320/350 Loss 0.31695\n",
            "Epoch 330/350 Loss 0.31166\n",
            "Epoch 340/350 Loss 0.30661\n",
            "Epoch 350/350 Loss 0.30177\n"
          ]
        }
      ],
      "source": [
        "# convertimos datos a tensores y copiamos en gpu\n",
        "\n",
        "X_t = torch.from_numpy(X_train).float().cuda()\n",
        "Y_t = torch.from_numpy(y_train).long().cuda()\n",
        "\n",
        "# bucle entrenamiento\n",
        "epochs = 350\n",
        "lr = 0.8\n",
        "log_each = 10\n",
        "l = []\n",
        "for e in range(1, epochs + 1):\n",
        "\n",
        "    # forward\n",
        "    y_pred = model(X_t)\n",
        "\n",
        "    # loss\n",
        "    loss = cross_entropy(y_pred, Y_t)\n",
        "    l.append(loss.item())\n",
        "\n",
        "    # ponemos a cero los gradientes\n",
        "    model.zero_grad()\n",
        "\n",
        "    # Backprop (calculamos todos los gradientes automáticamente)\n",
        "    loss.backward()\n",
        "\n",
        "    # update de los pesos\n",
        "    with torch.no_grad():\n",
        "        for param in model.parameters():\n",
        "            param -= lr * param.grad\n",
        "\n",
        "    if not e % log_each:\n",
        "        print(f\"Epoch {e}/{epochs} Loss {np.mean(l):.5f}\")"
      ]
    },
    {
      "cell_type": "markdown",
      "metadata": {
        "hidden": true,
        "id": "5tCiIuSvm6xT"
      },
      "source": [
        "Como puedes observar en el ejemplo, podemos calcular la salida del modelo con una simple línea. Luego calculamos la función de pérdida, y llamando a la función `backward` `Pytorch` se encarga de calcular las derivadas de la misma con respecto a todos los parámetros del modelo automáticamente (si no queremos acumular estos gradientes, nos aseguramos de llamar a la función `zero_grad` para ponerlos a cero antes de calcularlos). Por útlimo, podemos iterar por los parámetros del modelo aplicando la regla de actualización deseada (en este caso usamos `descenso por gradiente`)."
      ]
    },
    {
      "cell_type": "code",
      "execution_count": null,
      "metadata": {
        "ExecuteTime": {
          "end_time": "2020-08-15T12:22:07.312014Z",
          "start_time": "2020-08-15T12:22:07.270016Z"
        },
        "hidden": true,
        "id": "Ufomq0IIm6xT",
        "colab": {
          "base_uri": "https://localhost:8080/"
        },
        "outputId": "67fd3b3f-5390-4373-d8a8-be36a946d611"
      },
      "outputs": [
        {
          "output_type": "execute_result",
          "data": {
            "text/plain": [
              "0.9588"
            ]
          },
          "metadata": {},
          "execution_count": 55
        }
      ],
      "source": [
        "from sklearn.metrics import accuracy_score\n",
        "\n",
        "def evaluate(x):\n",
        "    model.eval()\n",
        "    y_pred = model(x)\n",
        "    y_probas = softmax(y_pred)\n",
        "    return torch.argmax(y_probas, axis=1)\n",
        "\n",
        "y_pred = evaluate(torch.from_numpy(X_test).float().cuda())\n",
        "accuracy_score(y_test, y_pred.cpu().numpy())"
      ]
    },
    {
      "cell_type": "markdown",
      "metadata": {
        "hidden": true,
        "id": "lafBMelim6xT"
      },
      "source": [
        "Existen algunos tipos de capas que se comportan diferente en función de si estamos entrenando la red o usándola para generar predicciones. Podemos controlar el modo en el que queremos que esté nuestra red con las funciones `train` y `eval`."
      ]
    },
    {
      "cell_type": "markdown",
      "metadata": {
        "heading_collapsed": true,
        "id": "bQJhUWy2m6xT"
      },
      "source": [
        "## Optimizadores y Funciones de pérdida"
      ]
    },
    {
      "cell_type": "markdown",
      "metadata": {
        "hidden": true,
        "id": "wnj54ahUm6xU"
      },
      "source": [
        "En el ejemplo anterior hemos calculado la función de pérdida y aplicado la regla de optimización de forma manual. Sin embargo, `Pytorch` nos ofrece funcionalidad que nos abstrae estos cálculos ofreciendo además flexibilidad para aplicar diferentes funciones de pérdida o algoritmos de optimización de manera sencilla. Podemos encontrar diferentes funciones de pérdida ya implementadas en el paquete `torch.nn`."
      ]
    },
    {
      "cell_type": "code",
      "execution_count": null,
      "metadata": {
        "ExecuteTime": {
          "end_time": "2020-08-15T12:22:07.328014Z",
          "start_time": "2020-08-15T12:22:07.313014Z"
        },
        "hidden": true,
        "id": "8ZmyhLd5m6xU"
      },
      "outputs": [],
      "source": [
        "criterion = torch.nn.CrossEntropyLoss()"
      ]
    },
    {
      "cell_type": "markdown",
      "metadata": {
        "hidden": true,
        "id": "Yz70Aprzm6xU"
      },
      "source": [
        "Mientras que los optimizadores se encuentran en el paquete `torch.optim`"
      ]
    },
    {
      "cell_type": "code",
      "execution_count": null,
      "metadata": {
        "ExecuteTime": {
          "end_time": "2020-08-15T12:22:07.343013Z",
          "start_time": "2020-08-15T12:22:07.330016Z"
        },
        "hidden": true,
        "id": "X8-BU1mbm6xU"
      },
      "outputs": [],
      "source": [
        "optimizer = torch.optim.SGD(model.parameters(), lr=0.8)"
      ]
    },
    {
      "cell_type": "markdown",
      "metadata": {
        "hidden": true,
        "id": "GmOzqwGXm6xV"
      },
      "source": [
        "Puedes ver la lista completa de funciones de pérdida y optimizadores disponibles en la [documentación](https://pytorch.org/docs/stable/index.html), aunque como ya has visto siempre puedes definir los tuyos propios fácilmente.\n",
        "\n",
        "Una vez definidos estos dos objetos, nuestro bucle de entrenamiento se simplifica considerablemente."
      ]
    },
    {
      "cell_type": "code",
      "execution_count": null,
      "metadata": {
        "ExecuteTime": {
          "end_time": "2020-08-15T12:22:08.626592Z",
          "start_time": "2020-08-15T12:22:07.344013Z"
        },
        "code_folding": [
          0
        ],
        "hidden": true,
        "id": "oz7CgSjum6xV",
        "colab": {
          "base_uri": "https://localhost:8080/"
        },
        "outputId": "2cb45952-38ac-4d85-fa48-0cb15eb14d36"
      },
      "outputs": [
        {
          "output_type": "stream",
          "name": "stdout",
          "text": [
            "Epoch 10/1500 Loss 1.91606\n",
            "Epoch 20/1500 Loss 1.54748\n",
            "Epoch 30/1500 Loss 1.24995\n",
            "Epoch 40/1500 Loss 1.05559\n",
            "Epoch 50/1500 Loss 0.93014\n",
            "Epoch 60/1500 Loss 0.82928\n",
            "Epoch 70/1500 Loss 0.76232\n",
            "Epoch 80/1500 Loss 0.70510\n",
            "Epoch 90/1500 Loss 0.65683\n",
            "Epoch 100/1500 Loss 0.61695\n",
            "Epoch 110/1500 Loss 0.58338\n",
            "Epoch 120/1500 Loss 0.55472\n",
            "Epoch 130/1500 Loss 0.53017\n",
            "Epoch 140/1500 Loss 0.50891\n",
            "Epoch 150/1500 Loss 0.48958\n",
            "Epoch 160/1500 Loss 0.47203\n",
            "Epoch 170/1500 Loss 0.45616\n",
            "Epoch 180/1500 Loss 0.44174\n",
            "Epoch 190/1500 Loss 0.42857\n",
            "Epoch 200/1500 Loss 0.41646\n",
            "Epoch 210/1500 Loss 0.40529\n",
            "Epoch 220/1500 Loss 0.39495\n",
            "Epoch 230/1500 Loss 0.38532\n",
            "Epoch 240/1500 Loss 0.37634\n",
            "Epoch 250/1500 Loss 0.36793\n",
            "Epoch 260/1500 Loss 0.36003\n",
            "Epoch 270/1500 Loss 0.35260\n",
            "Epoch 280/1500 Loss 0.34558\n",
            "Epoch 290/1500 Loss 0.33895\n",
            "Epoch 300/1500 Loss 0.33265\n",
            "Epoch 310/1500 Loss 0.32668\n",
            "Epoch 320/1500 Loss 0.32100\n",
            "Epoch 330/1500 Loss 0.31558\n",
            "Epoch 340/1500 Loss 0.31041\n",
            "Epoch 350/1500 Loss 0.30546\n",
            "Epoch 360/1500 Loss 0.30073\n",
            "Epoch 370/1500 Loss 0.29619\n",
            "Epoch 380/1500 Loss 0.29184\n",
            "Epoch 390/1500 Loss 0.28765\n",
            "Epoch 400/1500 Loss 0.28362\n",
            "Epoch 410/1500 Loss 0.27975\n",
            "Epoch 420/1500 Loss 0.27601\n",
            "Epoch 430/1500 Loss 0.27240\n",
            "Epoch 440/1500 Loss 0.26892\n",
            "Epoch 450/1500 Loss 0.26555\n",
            "Epoch 460/1500 Loss 0.26229\n",
            "Epoch 470/1500 Loss 0.25913\n",
            "Epoch 480/1500 Loss 0.25608\n",
            "Epoch 490/1500 Loss 0.25311\n",
            "Epoch 500/1500 Loss 0.25024\n",
            "Epoch 510/1500 Loss 0.24745\n",
            "Epoch 520/1500 Loss 0.24473\n",
            "Epoch 530/1500 Loss 0.24210\n",
            "Epoch 540/1500 Loss 0.23953\n",
            "Epoch 550/1500 Loss 0.23704\n",
            "Epoch 560/1500 Loss 0.23461\n",
            "Epoch 570/1500 Loss 0.23224\n",
            "Epoch 580/1500 Loss 0.22994\n",
            "Epoch 590/1500 Loss 0.22769\n",
            "Epoch 600/1500 Loss 0.22549\n",
            "Epoch 610/1500 Loss 0.22335\n",
            "Epoch 620/1500 Loss 0.22126\n",
            "Epoch 630/1500 Loss 0.21922\n",
            "Epoch 640/1500 Loss 0.21723\n",
            "Epoch 650/1500 Loss 0.21528\n",
            "Epoch 660/1500 Loss 0.21337\n",
            "Epoch 670/1500 Loss 0.21151\n",
            "Epoch 680/1500 Loss 0.20969\n",
            "Epoch 690/1500 Loss 0.20790\n",
            "Epoch 700/1500 Loss 0.20615\n",
            "Epoch 710/1500 Loss 0.20444\n",
            "Epoch 720/1500 Loss 0.20276\n",
            "Epoch 730/1500 Loss 0.20112\n",
            "Epoch 740/1500 Loss 0.19951\n",
            "Epoch 750/1500 Loss 0.19793\n",
            "Epoch 760/1500 Loss 0.19638\n",
            "Epoch 770/1500 Loss 0.19486\n",
            "Epoch 780/1500 Loss 0.19337\n",
            "Epoch 790/1500 Loss 0.19191\n",
            "Epoch 800/1500 Loss 0.19047\n",
            "Epoch 810/1500 Loss 0.18906\n",
            "Epoch 820/1500 Loss 0.18768\n",
            "Epoch 830/1500 Loss 0.18631\n",
            "Epoch 840/1500 Loss 0.18498\n",
            "Epoch 850/1500 Loss 0.18366\n",
            "Epoch 860/1500 Loss 0.18237\n",
            "Epoch 870/1500 Loss 0.18110\n",
            "Epoch 880/1500 Loss 0.17985\n",
            "Epoch 890/1500 Loss 0.17862\n",
            "Epoch 900/1500 Loss 0.17742\n",
            "Epoch 910/1500 Loss 0.17623\n",
            "Epoch 920/1500 Loss 0.17506\n",
            "Epoch 930/1500 Loss 0.17391\n",
            "Epoch 940/1500 Loss 0.17277\n",
            "Epoch 950/1500 Loss 0.17166\n",
            "Epoch 960/1500 Loss 0.17056\n",
            "Epoch 970/1500 Loss 0.16948\n",
            "Epoch 980/1500 Loss 0.16841\n",
            "Epoch 990/1500 Loss 0.16736\n",
            "Epoch 1000/1500 Loss 0.16633\n",
            "Epoch 1010/1500 Loss 0.16531\n",
            "Epoch 1020/1500 Loss 0.16430\n",
            "Epoch 1030/1500 Loss 0.16331\n",
            "Epoch 1040/1500 Loss 0.16234\n",
            "Epoch 1050/1500 Loss 0.16137\n",
            "Epoch 1060/1500 Loss 0.16043\n",
            "Epoch 1070/1500 Loss 0.15949\n",
            "Epoch 1080/1500 Loss 0.15857\n",
            "Epoch 1090/1500 Loss 0.15766\n",
            "Epoch 1100/1500 Loss 0.15676\n",
            "Epoch 1110/1500 Loss 0.15587\n",
            "Epoch 1120/1500 Loss 0.15500\n",
            "Epoch 1130/1500 Loss 0.15413\n",
            "Epoch 1140/1500 Loss 0.15328\n",
            "Epoch 1150/1500 Loss 0.15244\n",
            "Epoch 1160/1500 Loss 0.15161\n",
            "Epoch 1170/1500 Loss 0.15079\n",
            "Epoch 1180/1500 Loss 0.14998\n",
            "Epoch 1190/1500 Loss 0.14918\n",
            "Epoch 1200/1500 Loss 0.14839\n",
            "Epoch 1210/1500 Loss 0.14761\n",
            "Epoch 1220/1500 Loss 0.14684\n",
            "Epoch 1230/1500 Loss 0.14608\n",
            "Epoch 1240/1500 Loss 0.14533\n",
            "Epoch 1250/1500 Loss 0.14459\n",
            "Epoch 1260/1500 Loss 0.14385\n",
            "Epoch 1270/1500 Loss 0.14313\n",
            "Epoch 1280/1500 Loss 0.14241\n",
            "Epoch 1290/1500 Loss 0.14170\n",
            "Epoch 1300/1500 Loss 0.14100\n",
            "Epoch 1310/1500 Loss 0.14031\n",
            "Epoch 1320/1500 Loss 0.13962\n",
            "Epoch 1330/1500 Loss 0.13894\n",
            "Epoch 1340/1500 Loss 0.13827\n",
            "Epoch 1350/1500 Loss 0.13761\n",
            "Epoch 1360/1500 Loss 0.13695\n",
            "Epoch 1370/1500 Loss 0.13630\n",
            "Epoch 1380/1500 Loss 0.13566\n",
            "Epoch 1390/1500 Loss 0.13503\n",
            "Epoch 1400/1500 Loss 0.13440\n",
            "Epoch 1410/1500 Loss 0.13378\n",
            "Epoch 1420/1500 Loss 0.13316\n",
            "Epoch 1430/1500 Loss 0.13256\n",
            "Epoch 1440/1500 Loss 0.13195\n",
            "Epoch 1450/1500 Loss 0.13136\n",
            "Epoch 1460/1500 Loss 0.13077\n",
            "Epoch 1470/1500 Loss 0.13018\n",
            "Epoch 1480/1500 Loss 0.12960\n",
            "Epoch 1490/1500 Loss 0.12903\n",
            "Epoch 1500/1500 Loss 0.12846\n"
          ]
        },
        {
          "output_type": "execute_result",
          "data": {
            "text/plain": [
              "0.977"
            ]
          },
          "metadata": {},
          "execution_count": 58
        }
      ],
      "source": [
        "D_in, H, D_out = 784, 100, 10\n",
        "\n",
        "model = torch.nn.Sequential(\n",
        "    torch.nn.Linear(D_in, H),\n",
        "    torch.nn.ReLU(),\n",
        "    torch.nn.Linear(H, D_out),\n",
        ").to(\"cuda\")\n",
        "\n",
        "criterion = torch.nn.CrossEntropyLoss()\n",
        "optimizer = torch.optim.SGD(model.parameters(), lr=0.8)\n",
        "\n",
        "epochs = 1500\n",
        "log_each = 10\n",
        "l = []\n",
        "model.train()\n",
        "for e in range(1, epochs+1):\n",
        "\n",
        "    # forward\n",
        "    y_pred = model(X_t)\n",
        "\n",
        "    # loss\n",
        "    loss = criterion(y_pred, Y_t)\n",
        "    l.append(loss.item())\n",
        "\n",
        "    # ponemos a cero los gradientes\n",
        "    optimizer.zero_grad()\n",
        "\n",
        "    # Backprop (calculamos todos los gradientes automáticamente)\n",
        "    loss.backward()\n",
        "\n",
        "    # update de los pesos\n",
        "    optimizer.step()\n",
        "\n",
        "    if not e % log_each:\n",
        "        print(f\"Epoch {e}/{epochs} Loss {np.mean(l):.5f}\")\n",
        "\n",
        "y_pred = evaluate(torch.from_numpy(X_test).float().cuda())\n",
        "accuracy_score(y_test, y_pred.cpu().numpy())"
      ]
    },
    {
      "cell_type": "markdown",
      "metadata": {
        "heading_collapsed": true,
        "id": "ipyuFlAIm6xV"
      },
      "source": [
        "## Modelos custom"
      ]
    },
    {
      "cell_type": "markdown",
      "metadata": {
        "hidden": true,
        "id": "_uh7djQTm6xV"
      },
      "source": [
        "Si bien en muchos casos definir una `red neuronal` como una secuencia de capas es suficiente, en otros casos será un factor limitante. Un ejemplo son las redes residuales, en las que no sólo utilizamos la salida de una capa para alimentar la siguiente si no que, además, le sumamos su propia entrada. Este tipo de arquitectura no puede ser definida con la clase `Sequential`, y para ello necesitamos hacer un modelo *customizado*. Para ello, `Pytroch` nos ofrece la siguiente sintaxis."
      ]
    },
    {
      "cell_type": "code",
      "execution_count": null,
      "metadata": {
        "ExecuteTime": {
          "end_time": "2020-08-15T12:22:08.642713Z",
          "start_time": "2020-08-15T12:22:08.628592Z"
        },
        "hidden": true,
        "id": "zP6-77c5m6xW"
      },
      "outputs": [],
      "source": [
        "# creamos una clase que hereda de `torch.nn.Module`\n",
        "\n",
        "class ModeloPersonalizado(torch.nn.Module):\n",
        "\n",
        "    # constructor\n",
        "    def __init__(self, D_in, H, D_out):\n",
        "\n",
        "        # llamamos al constructor de la clase madre\n",
        "        super(ModeloPersonalizado, self).__init__()\n",
        "\n",
        "        # definimos nuestras capas\n",
        "        self.fc1 = torch.nn.Linear(D_in, H)\n",
        "        self.relu = torch.nn.ReLU()\n",
        "        self.fc2 = torch.nn.Linear(H, D_out)\n",
        "\n",
        "    # lógica para calcular las salidas de la red\n",
        "    def forward(self, x):\n",
        "        x = self.fc1(x)\n",
        "        x = self.relu(x)\n",
        "        x = self.fc2(x)\n",
        "        return x"
      ]
    },
    {
      "cell_type": "markdown",
      "metadata": {
        "hidden": true,
        "id": "2jwizXIgm6xW"
      },
      "source": [
        "En primer lugar, necesitamos definir una nueva clase que herede de la clase `torch.nn.Module`. Esta clase madre aportará toda la funcionalidad esencial que necesita una `red neuronal` (soporte GPU, iterar por sus parámeteros, etc). Luego, en esta clase necesitamos definir mínimos dos funciones:\n",
        "\n",
        "- `init`: en el constructor llamaremos al constructor de la clase madre y después definiremos todas las capas que querramos usar en la red.\n",
        "- `forward`: en esta función definimos toda la lógica que aplicaremos desde que recibimos los inputs hasta que devolvemos los outputs.\n",
        "\n",
        "En el ejemplo anterior simplemente hemos replicado la misma red (puedes conseguir el mismo efecto usando la clase `Sequential`)."
      ]
    },
    {
      "cell_type": "code",
      "execution_count": null,
      "metadata": {
        "ExecuteTime": {
          "end_time": "2020-08-15T12:22:08.658711Z",
          "start_time": "2020-08-15T12:22:08.644712Z"
        },
        "hidden": true,
        "id": "zhaXSvoVm6xW",
        "colab": {
          "base_uri": "https://localhost:8080/"
        },
        "outputId": "4c42bd3a-f3ed-4356-9e00-21d41ff9d124"
      },
      "outputs": [
        {
          "output_type": "stream",
          "name": "stdout",
          "text": [
            "tensor([[-0.3565,  1.1012, -0.2018,  ...,  0.9919, -1.0762,  0.8937],\n",
            "        [-0.0618, -0.3041, -0.7541,  ...,  0.8137, -1.1066, -0.7269],\n",
            "        [ 0.8396,  1.9817,  0.8287,  ..., -0.1057,  0.3610,  1.3960],\n",
            "        ...,\n",
            "        [ 0.3159,  0.0116,  0.7946,  ..., -0.4346, -0.0328, -0.2375],\n",
            "        [ 1.2079, -2.2098,  0.3712,  ..., -0.5540, -0.3757,  0.3369],\n",
            "        [ 1.3936,  0.4179,  0.4427,  ...,  1.0251,  1.6883, -0.0341]])\n"
          ]
        },
        {
          "output_type": "execute_result",
          "data": {
            "text/plain": [
              "torch.Size([500, 10])"
            ]
          },
          "metadata": {},
          "execution_count": 60
        }
      ],
      "source": [
        "model = ModeloPersonalizado(784, 100, 10)\n",
        "# Codigo para saber si el modelo esta votando los datos en las cantidades correctas\n",
        "x_prueba = torch.randn(500, 784)\n",
        "print(x_prueba)\n",
        "outputs = model(x_prueba)\n",
        "outputs.shape"
      ]
    },
    {
      "cell_type": "markdown",
      "metadata": {
        "hidden": true,
        "id": "_RkPO5hum6xW"
      },
      "source": [
        "Ahora, podemos entrenar nuestra red de la misma forma que lo hemos hecho anteriormente."
      ]
    },
    {
      "cell_type": "code",
      "execution_count": null,
      "metadata": {
        "ExecuteTime": {
          "end_time": "2020-08-15T12:22:09.941710Z",
          "start_time": "2020-08-15T12:22:08.659711Z"
        },
        "hidden": true,
        "id": "idh4YMn6m6xX",
        "colab": {
          "base_uri": "https://localhost:8080/"
        },
        "outputId": "ac70d071-0d03-46a9-c421-6178a79d416a"
      },
      "outputs": [
        {
          "output_type": "stream",
          "name": "stdout",
          "text": [
            "Epoch 10/100 Loss 1.80042\n",
            "Epoch 20/100 Loss 1.44855\n",
            "Epoch 30/100 Loss 1.18647\n",
            "Epoch 40/100 Loss 1.00444\n",
            "Epoch 50/100 Loss 0.89447\n",
            "Epoch 60/100 Loss 0.79948\n",
            "Epoch 70/100 Loss 0.73598\n",
            "Epoch 80/100 Loss 0.68085\n",
            "Epoch 90/100 Loss 0.63504\n",
            "Epoch 100/100 Loss 0.59709\n"
          ]
        },
        {
          "output_type": "execute_result",
          "data": {
            "text/plain": [
              "0.9281"
            ]
          },
          "metadata": {},
          "execution_count": 61
        }
      ],
      "source": [
        "model.to(\"cuda\")\n",
        "criterion = torch.nn.CrossEntropyLoss()\n",
        "optimizer = torch.optim.SGD(model.parameters(), lr=0.8)\n",
        "\n",
        "epochs = 100\n",
        "log_each = 10\n",
        "l = []\n",
        "model.train()\n",
        "for e in range(1, epochs+1):\n",
        "\n",
        "    # forward\n",
        "    y_pred = model(X_t)\n",
        "\n",
        "    # loss\n",
        "    loss = criterion(y_pred, Y_t)\n",
        "    l.append(loss.item())\n",
        "\n",
        "    # ponemos a cero los gradientes\n",
        "    optimizer.zero_grad()\n",
        "\n",
        "    # Backprop (calculamos todos los gradientes automáticamente)\n",
        "    loss.backward()\n",
        "\n",
        "    # update de los pesos\n",
        "    optimizer.step()\n",
        "\n",
        "    if not e % log_each:\n",
        "        print(f\"Epoch {e}/{epochs} Loss {np.mean(l):.5f}\")\n",
        "\n",
        "y_pred = evaluate(torch.from_numpy(X_test).float().cuda())\n",
        "accuracy_score(y_test, y_pred.cpu().numpy())"
      ]
    },
    {
      "cell_type": "markdown",
      "metadata": {
        "hidden": true,
        "id": "Rh3bxMrmm6xX"
      },
      "source": [
        "Aquí puedes ver otro ejemplo de como definir un `MLP` con conexiones residuales, algo que no podemos hacer simplemente usando un modelo secuencial."
      ]
    },
    {
      "cell_type": "code",
      "execution_count": null,
      "metadata": {
        "ExecuteTime": {
          "end_time": "2020-08-15T12:22:09.956710Z",
          "start_time": "2020-08-15T12:22:09.942710Z"
        },
        "hidden": true,
        "id": "l-6qAZn1m6xX"
      },
      "outputs": [],
      "source": [
        "class ModelCustom2(torch.nn.Module):\n",
        "\n",
        "    def __init__(self, D_in, H, D_out):\n",
        "        super(ModelCustom2, self).__init__()\n",
        "        self.fc1 = torch.nn.Linear(D_in, H)\n",
        "        self.relu = torch.nn.ReLU()\n",
        "        self.fc2 = torch.nn.Linear(H, D_out)\n",
        "\n",
        "    def forward(self, x):\n",
        "        x1 = self.fc1(x)\n",
        "        x = self.relu(x1)\n",
        "        x = self.fc2(x + x1)\n",
        "        return x"
      ]
    },
    {
      "cell_type": "code",
      "execution_count": null,
      "metadata": {
        "ExecuteTime": {
          "end_time": "2020-08-15T12:22:11.314772Z",
          "start_time": "2020-08-15T12:22:09.958712Z"
        },
        "hidden": true,
        "id": "EaSLokO7m6xX",
        "colab": {
          "base_uri": "https://localhost:8080/"
        },
        "outputId": "da239c5c-d5e0-435e-dfdb-6f67fea53ebc"
      },
      "outputs": [
        {
          "output_type": "stream",
          "name": "stdout",
          "text": [
            "Epoch 10/100 Loss 1.61140\n",
            "Epoch 20/100 Loss 1.17541\n",
            "Epoch 30/100 Loss 0.97012\n",
            "Epoch 40/100 Loss 0.86633\n",
            "Epoch 50/100 Loss 0.78405\n",
            "Epoch 60/100 Loss 0.72089\n",
            "Epoch 70/100 Loss 0.67117\n",
            "Epoch 80/100 Loss 0.63201\n",
            "Epoch 90/100 Loss 0.60033\n",
            "Epoch 100/100 Loss 0.57409\n"
          ]
        },
        {
          "output_type": "execute_result",
          "data": {
            "text/plain": [
              "0.9117"
            ]
          },
          "metadata": {},
          "execution_count": 63
        }
      ],
      "source": [
        "model = ModelCustom2(784, 100, 10).to(\"cuda\")\n",
        "criterion = torch.nn.CrossEntropyLoss()\n",
        "optimizer = torch.optim.SGD(model.parameters(), lr=0.2)\n",
        "\n",
        "epochs = 100\n",
        "log_each = 10\n",
        "l = []\n",
        "model.train()\n",
        "for e in range(1, epochs+1):\n",
        "\n",
        "    # forward\n",
        "    y_pred = model(X_t)\n",
        "\n",
        "    # loss\n",
        "    loss = criterion(y_pred, Y_t)\n",
        "    l.append(loss.item())\n",
        "\n",
        "    # ponemos a cero los gradientes\n",
        "    optimizer.zero_grad()\n",
        "\n",
        "    # Backprop (calculamos todos los gradientes automáticamente)\n",
        "    loss.backward()\n",
        "\n",
        "    # update de los pesos\n",
        "    optimizer.step()\n",
        "\n",
        "    if not e % log_each:\n",
        "        print(f\"Epoch {e}/{epochs} Loss {np.mean(l):.5f}\")\n",
        "\n",
        "y_pred = evaluate(torch.from_numpy(X_test).float().cuda())\n",
        "accuracy_score(y_test, y_pred.cpu().numpy())"
      ]
    },
    {
      "cell_type": "markdown",
      "metadata": {
        "hidden": true,
        "id": "sgoJC4nIm6xY"
      },
      "source": [
        "De esta manera, tenemos mucha flexibilidad para definir nuestras redes."
      ]
    },
    {
      "cell_type": "markdown",
      "metadata": {
        "heading_collapsed": true,
        "id": "s1ZrxJsJm6xY"
      },
      "source": [
        "## Accediendo a las capas de una red"
      ]
    },
    {
      "cell_type": "markdown",
      "metadata": {
        "hidden": true,
        "id": "TC470LoYm6xY"
      },
      "source": [
        "En ocasiones queremos acceder a una capa en particular de nuestra red. Para ello, podemos acceder utilizando su nombre."
      ]
    },
    {
      "cell_type": "code",
      "execution_count": null,
      "metadata": {
        "ExecuteTime": {
          "end_time": "2020-08-15T12:22:11.329809Z",
          "start_time": "2020-08-15T12:22:11.316772Z"
        },
        "hidden": true,
        "id": "K5VAtILVm6xY",
        "colab": {
          "base_uri": "https://localhost:8080/"
        },
        "outputId": "1efa23eb-53ec-4e52-8236-44937c063e35"
      },
      "outputs": [
        {
          "output_type": "execute_result",
          "data": {
            "text/plain": [
              "ModelCustom2(\n",
              "  (fc1): Linear(in_features=784, out_features=100, bias=True)\n",
              "  (relu): ReLU()\n",
              "  (fc2): Linear(in_features=100, out_features=10, bias=True)\n",
              ")"
            ]
          },
          "metadata": {},
          "execution_count": 64
        }
      ],
      "source": [
        "model"
      ]
    },
    {
      "cell_type": "code",
      "execution_count": null,
      "metadata": {
        "ExecuteTime": {
          "end_time": "2020-08-15T12:22:11.345809Z",
          "start_time": "2020-08-15T12:22:11.332809Z"
        },
        "hidden": true,
        "id": "_EfUdON5m6xY",
        "colab": {
          "base_uri": "https://localhost:8080/"
        },
        "outputId": "b0bcd897-e153-4238-a21c-de0fc2f62f24"
      },
      "outputs": [
        {
          "output_type": "execute_result",
          "data": {
            "text/plain": [
              "Linear(in_features=784, out_features=100, bias=True)"
            ]
          },
          "metadata": {},
          "execution_count": 65
        }
      ],
      "source": [
        "model.fc1"
      ]
    },
    {
      "cell_type": "markdown",
      "metadata": {
        "hidden": true,
        "id": "5vXjUwhmm6xZ"
      },
      "source": [
        "También podemos acceder directamente a los tensores que contienen los parámetros con las propiedades adecuadas"
      ]
    },
    {
      "cell_type": "code",
      "execution_count": null,
      "metadata": {
        "ExecuteTime": {
          "end_time": "2020-08-15T12:22:11.360809Z",
          "start_time": "2020-08-15T12:22:11.346809Z"
        },
        "hidden": true,
        "id": "C6Wy_6cXm6xZ",
        "colab": {
          "base_uri": "https://localhost:8080/"
        },
        "outputId": "2df668ab-421d-42fa-afed-634d854c7278"
      },
      "outputs": [
        {
          "output_type": "execute_result",
          "data": {
            "text/plain": [
              "Parameter containing:\n",
              "tensor([[-0.0242,  0.0021,  0.0176,  ..., -0.0336,  0.0020,  0.0276],\n",
              "        [ 0.0087,  0.0264,  0.0148,  ..., -0.0270,  0.0226,  0.0109],\n",
              "        [-0.0031, -0.0064, -0.0013,  ...,  0.0343,  0.0168,  0.0337],\n",
              "        ...,\n",
              "        [ 0.0045,  0.0308,  0.0144,  ..., -0.0100, -0.0259,  0.0305],\n",
              "        [-0.0041, -0.0255,  0.0070,  ...,  0.0045, -0.0154,  0.0098],\n",
              "        [-0.0106, -0.0082,  0.0334,  ...,  0.0010,  0.0220,  0.0106]],\n",
              "       device='cuda:0', requires_grad=True)"
            ]
          },
          "metadata": {},
          "execution_count": 66
        }
      ],
      "source": [
        "model.fc1.weight"
      ]
    },
    {
      "cell_type": "code",
      "execution_count": null,
      "metadata": {
        "ExecuteTime": {
          "end_time": "2020-08-15T12:22:11.375809Z",
          "start_time": "2020-08-15T12:22:11.361809Z"
        },
        "hidden": true,
        "id": "5TbpHDGKm6xZ",
        "colab": {
          "base_uri": "https://localhost:8080/"
        },
        "outputId": "1359c585-a3fc-41a1-f84a-abfa5ecfd0f3"
      },
      "outputs": [
        {
          "output_type": "execute_result",
          "data": {
            "text/plain": [
              "Parameter containing:\n",
              "tensor([ 0.0387,  0.0041,  0.0606,  0.0189,  0.0038,  0.0597,  0.0370,  0.0164,\n",
              "         0.0435,  0.0296,  0.0101, -0.0244,  0.0711,  0.0083, -0.0255, -0.0142,\n",
              "         0.0796,  0.0341,  0.0126,  0.0849,  0.0348, -0.0262,  0.0629,  0.0505,\n",
              "         0.0157, -0.0331,  0.0089,  0.0358, -0.0023,  0.0761, -0.0121, -0.0230,\n",
              "        -0.0494, -0.0106, -0.0401,  0.0433, -0.0140,  0.0412, -0.0090,  0.0406,\n",
              "        -0.0070,  0.0441, -0.0031, -0.0359, -0.0505,  0.0183,  0.0318,  0.0594,\n",
              "        -0.0394,  0.0092,  0.0046, -0.0073, -0.0190, -0.0106,  0.0186, -0.0167,\n",
              "        -0.0101,  0.0710,  0.0360, -0.0011,  0.0529, -0.0381,  0.0713,  0.0413,\n",
              "         0.0012,  0.0613,  0.0153,  0.0281,  0.0599, -0.0387, -0.0231, -0.0055,\n",
              "        -0.0166, -0.0257,  0.0488,  0.0519, -0.0254, -0.0140, -0.0206,  0.0031,\n",
              "        -0.0122, -0.0025,  0.0772,  0.0052,  0.0097,  0.0421, -0.0466, -0.0211,\n",
              "        -0.0262,  0.0959,  0.0098,  0.0740,  0.0467, -0.0215,  0.0439, -0.0191,\n",
              "        -0.0278,  0.0207, -0.0057,  0.0415], device='cuda:0',\n",
              "       requires_grad=True)"
            ]
          },
          "metadata": {},
          "execution_count": 67
        }
      ],
      "source": [
        "model.fc1.bias"
      ]
    },
    {
      "cell_type": "markdown",
      "metadata": {
        "hidden": true,
        "id": "oqraljgym6xZ"
      },
      "source": [
        "Es posible sobreescribir una capa de la siguiente manera"
      ]
    },
    {
      "cell_type": "code",
      "execution_count": null,
      "metadata": {
        "ExecuteTime": {
          "end_time": "2020-08-15T12:22:11.391810Z",
          "start_time": "2020-08-15T12:22:11.376809Z"
        },
        "hidden": true,
        "id": "xIwyV17em6xZ",
        "colab": {
          "base_uri": "https://localhost:8080/"
        },
        "outputId": "e8d814fe-4ee2-4201-bb12-3272b75acbc3"
      },
      "outputs": [
        {
          "output_type": "execute_result",
          "data": {
            "text/plain": [
              "ModelCustom2(\n",
              "  (fc1): Linear(in_features=784, out_features=100, bias=True)\n",
              "  (relu): ReLU()\n",
              "  (fc2): Linear(in_features=100, out_features=1, bias=True)\n",
              ")"
            ]
          },
          "metadata": {},
          "execution_count": 68
        }
      ],
      "source": [
        "model.fc2 = torch.nn.Linear(100, 1)\n",
        "\n",
        "model"
      ]
    },
    {
      "cell_type": "markdown",
      "metadata": {
        "hidden": true,
        "id": "eVLw3r9im6xZ"
      },
      "source": [
        "Ahora, la capa final de nuestra red tiene solo una salida. Esta nueva capa ha sido inicializada de manera aleatoria, por lo que esta nueva red no nos va a servir de mucho. Sin embargo, podríamos volver a entrenar esta red en otro problema en el que solo necesitemos una salida aprovechando los pesos que ya hemos entrenado anteriormente con el dataset MNIST. Esto es la base del *transfer learning*, una técnica que utilizaremos muchísimo más adelante y la cual explicaremos en detalle.\n",
        "\n",
        "A continuación encontrarás varios trucos a la hora de crear redes neuronales a partir de otras que te pueden resultar útiles."
      ]
    },
    {
      "cell_type": "code",
      "execution_count": null,
      "metadata": {
        "ExecuteTime": {
          "end_time": "2020-08-15T12:22:11.406809Z",
          "start_time": "2020-08-15T12:22:11.393812Z"
        },
        "hidden": true,
        "id": "JfE83wXtm6xZ",
        "colab": {
          "base_uri": "https://localhost:8080/"
        },
        "outputId": "fe422420-4c24-4b47-a203-dcba15b7e180"
      },
      "outputs": [
        {
          "output_type": "execute_result",
          "data": {
            "text/plain": [
              "[Linear(in_features=784, out_features=100, bias=True),\n",
              " ReLU(),\n",
              " Linear(in_features=100, out_features=1, bias=True)]"
            ]
          },
          "metadata": {},
          "execution_count": 69
        }
      ],
      "source": [
        "# obtener una lista con las capas de una red\n",
        "\n",
        "list(model.children())"
      ]
    },
    {
      "cell_type": "code",
      "execution_count": null,
      "metadata": {
        "ExecuteTime": {
          "end_time": "2020-08-15T12:22:11.422810Z",
          "start_time": "2020-08-15T12:22:11.408810Z"
        },
        "hidden": true,
        "id": "wkaUklFHm6xa",
        "colab": {
          "base_uri": "https://localhost:8080/"
        },
        "outputId": "ed7a57bf-da14-4850-cd9a-144c29d1dd30"
      },
      "outputs": [
        {
          "output_type": "execute_result",
          "data": {
            "text/plain": [
              "Sequential(\n",
              "  (0): Linear(in_features=784, out_features=100, bias=True)\n",
              ")"
            ]
          },
          "metadata": {},
          "execution_count": 70
        }
      ],
      "source": [
        "# crear nueva red a partir de la lista (excluyendo las útlimas dos capa)\n",
        "\n",
        "new_model = torch.nn.Sequential(*list(model.children())[:-2])\n",
        "new_model"
      ]
    },
    {
      "cell_type": "code",
      "execution_count": null,
      "metadata": {
        "ExecuteTime": {
          "end_time": "2020-08-15T12:22:11.438809Z",
          "start_time": "2020-08-15T12:22:11.424811Z"
        },
        "hidden": true,
        "id": "AcGFOSU5m6xa",
        "colab": {
          "base_uri": "https://localhost:8080/"
        },
        "outputId": "df247c5c-0921-4958-9e85-62b1c8d6a8f4"
      },
      "outputs": [
        {
          "output_type": "execute_result",
          "data": {
            "text/plain": [
              "ModuleList(\n",
              "  (0): Linear(in_features=784, out_features=100, bias=True)\n",
              "  (1): ReLU()\n",
              ")"
            ]
          },
          "metadata": {},
          "execution_count": 71
        }
      ],
      "source": [
        "# crear nueva red a partir de la lista (excluyendo las útlima capa)\n",
        "\n",
        "new_model = torch.nn.ModuleList(list(model.children())[:-1])\n",
        "new_model"
      ]
    },
    {
      "cell_type": "markdown",
      "metadata": {
        "id": "2IanjDRkm6xa"
      },
      "source": [
        "## Resumen"
      ]
    },
    {
      "cell_type": "markdown",
      "metadata": {
        "id": "PwR1F8c9m6xa"
      },
      "source": [
        "En este post hemos visto la funcionalidad que `Pytorch` nos ofrece a la hora de definir y entrenar nuestras `redes neuronales`. El paquete `torch.nn` contiene todo lo necesario para diseñar nuestros modelos, ya sea de manera secuencial o con una clase *custom* para arquitecturas más complicadas. También nos da muchas funciones de pérdida que podemos usar directamente para entrenar las redes. Te recomiendo encarecidamente que le eches un vistazo a la [documentación](https://pytorch.org/docs/stable/nn.html) par hacerte una idea de todo lo que puedes hacer. También hemos visto como el paquete `torch.optim` nos oferece algoritmos de optimización que también nos hacen la vida más fácil a la hora de entrenar nuestras redes."
      ]
    }
  ],
  "metadata": {
    "kernelspec": {
      "display_name": "Python 3",
      "name": "python3"
    },
    "language_info": {
      "codemirror_mode": {
        "name": "ipython",
        "version": 3
      },
      "file_extension": ".py",
      "mimetype": "text/x-python",
      "name": "python",
      "nbconvert_exporter": "python",
      "pygments_lexer": "ipython3",
      "version": "3.8.3"
    },
    "toc": {
      "base_numbering": 1,
      "nav_menu": {},
      "number_sections": true,
      "sideBar": true,
      "skip_h1_title": false,
      "title_cell": "Table of Contents",
      "title_sidebar": "Contents",
      "toc_cell": false,
      "toc_position": {
        "height": "calc(100% - 180px)",
        "left": "10px",
        "top": "150px",
        "width": "233.594px"
      },
      "toc_section_display": true,
      "toc_window_display": false
    },
    "colab": {
      "provenance": [],
      "gpuType": "T4"
    },
    "accelerator": "GPU"
  },
  "nbformat": 4,
  "nbformat_minor": 0
}